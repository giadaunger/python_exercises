{
 "cells": [
  {
   "cell_type": "markdown",
   "id": "d19d0bbb",
   "metadata": {},
   "source": [
    "# Uppgifter flow control 1 - FACIT\n",
    "Du kan också göra uppgifter i automate the boring stuff kapitel 2.\n",
    "\n",
    "# Instruktioner\n",
    "DU SKA ALLTID FÖRSÖKA FÖRST INNAN DU KOLLAR FACIT!\n",
    "1. Läs frågan. Kolla boken, googla, kolla tutorialsidor\n",
    "2. Försök besvara frågan, testa kod, experimentera, kolla med kompis eller lärare\n",
    "3. Kolla facit\n",
    "\n",
    "### *Flödeskontroll 1*"
   ]
  },
  {
   "cell_type": "markdown",
   "id": "b309f4cb",
   "metadata": {},
   "source": [
    "### **Uppgift 1.**\n",
    "\n",
    "Varför behöver vi flödeskontroll när vi programmerar?"
   ]
  },
  {
   "cell_type": "markdown",
   "id": "30155914",
   "metadata": {},
   "source": [
    "### **Uppgift 2.**\n",
    "\n",
    "1. Vad är en boolean?\n",
    "2. Vilka värden är sanna och falska? Ge minst 5 exempel. Tips: \n",
    " Testa olika värden genom att använda bool()-klassen.\n",
    " Exempel:\n",
    " bool(\"test a string\")\n",
    " osv..\n",
    " Läs också igenom hela denna artikel: [https://www.freecodecamp.org/news/truthy-and-falsy-values-in-python/](https://www.freecodecamp.org/news/truthy-and-falsy-values-in-python/)\n",
    "3. Vad händer om du adderar eller subtraherar True och False?\n"
   ]
  },
  {
   "cell_type": "code",
   "execution_count": null,
   "id": "6ca7a174",
   "metadata": {},
   "outputs": [],
   "source": [
    "# Skriv kod/svar här\n",
    "# Boolean är en datastruktur som tar emot ett värde som är antingen sant eller falsk\n",
    "\n",
    "bool([]) # False\n",
    "bool(1) # True\n",
    "bool(0) # False\n",
    "bool(0.0) # False\n",
    "bool(\"\") # False\n",
    "bool(\" \") # True\n",
    "\n",
    "# Det är helt möjligt, i dessa fall så behandlas booleans som 1 eller 0. True + True blir exempelvis 2, \n",
    "# därför att True representerar integern 1."
   ]
  },
  {
   "cell_type": "markdown",
   "id": "6285af24",
   "metadata": {},
   "source": [
    "\n",
    "\n",
    "### **Uppgift 3.**\n",
    "1. Hur skiljer sig python from tex. andra programmeringsspråk när det gäller att definiera ett kodblock?\n",
    "2. Får du använda både tabs och spaces vid indentering (förskjutning av koden till höger)\n",
    "3. Vad kan gå fel? Ge ett kort exempel.\n"
   ]
  },
  {
   "cell_type": "markdown",
   "id": "efe08128",
   "metadata": {},
   "source": [
    "\n",
    "### Uppgift 4.\n",
    "Vad skrivs ut av följande kod?"
   ]
  },
  {
   "cell_type": "markdown",
   "id": "81313aba",
   "metadata": {},
   "source": [
    "```python\n",
    "age = 20\n",
    "if age > 18:\n",
    "    print(\"Du får rösta.\")\n",
    "else:\n",
    "    print(\"Du får inte rösta.\")\n",
    "```"
   ]
  },
  {
   "cell_type": "code",
   "execution_count": null,
   "id": "b19c0442",
   "metadata": {},
   "outputs": [],
   "source": [
    "# Skriv kod/svar här\n",
    "# \"Du får rösta.\""
   ]
  },
  {
   "cell_type": "markdown",
   "id": "b1685420",
   "metadata": {},
   "source": [
    "### Uppgift 5.\n",
    "Vad skrivs ut av följande kod?\n"
   ]
  },
  {
   "cell_type": "markdown",
   "id": "2b7dd93c",
   "metadata": {},
   "source": [
    "```python\n",
    "x = 15\n",
    "if x < 10:\n",
    "    print(\"x är mindre än 10.\")\n",
    "elif x > 10 and x < 20:\n",
    "    print(\"x är större än 10 men mindre än 20.\")\n",
    "else:\n",
    "    print(\"x är större än 20.\")\n",
    "```"
   ]
  },
  {
   "cell_type": "code",
   "execution_count": null,
   "id": "9cab1a82",
   "metadata": {},
   "outputs": [],
   "source": [
    "# Skriv kod/svar här\n",
    "# \"x är större än 10 men mindre än 20.\"\n"
   ]
  },
  {
   "cell_type": "markdown",
   "id": "bca23bcc",
   "metadata": {},
   "source": [
    "### Uppgift 6.\n",
    "Vad skrivs ut av följande kod?"
   ]
  },
  {
   "cell_type": "markdown",
   "id": "279180e4",
   "metadata": {},
   "source": [
    "\n",
    "```python\n",
    "age = 17\n",
    "driving_license = False\n",
    "\n",
    "if age >= 18 and driving_license:\n",
    "    print(\"Du får köra bil.\")\n",
    "else:\n",
    "    print(\"Du får inte köra bil.\")\n",
    "```\n"
   ]
  },
  {
   "cell_type": "code",
   "execution_count": null,
   "id": "b6ad9f77",
   "metadata": {},
   "outputs": [],
   "source": [
    "# Skriv din kod här# Skriv kod/svar här\n",
    "# \"Du får inte köra bil.\""
   ]
  },
  {
   "cell_type": "markdown",
   "id": "d3b16670",
   "metadata": {},
   "source": [
    "### Uppgift 7.\n",
    "Vilka värden för x kommer att göra att följande kod skriver ut \"x är större än 10 men mindre än 20.\"?\n"
   ]
  },
  {
   "cell_type": "code",
   "execution_count": null,
   "id": "223f12ab",
   "metadata": {},
   "outputs": [],
   "source": [
    "if x < 10:\n",
    "    print(\"x är mindre än 10.\")\n",
    "elif x > 10 and x < 20:\n",
    "    print(\"x är större än 10 men mindre än 20.\")\n",
    "else:\n",
    "    print(\"x är större än 20.\")"
   ]
  },
  {
   "cell_type": "code",
   "execution_count": null,
   "id": "57211dc4",
   "metadata": {},
   "outputs": [],
   "source": [
    "# Skriv kod/svar här\n",
    "# Om x är mellan 11 och 19"
   ]
  },
  {
   "cell_type": "markdown",
   "id": "6a875cc1",
   "metadata": {},
   "source": [
    "\n",
    "### Uppgift 8.\n",
    "Skriv en if-sats som skriver ut \"Du får köra bil.\" om variablerna age är större än eller lika med 18 och driving_license är True. I alla andra fall ska det skrivas ut \"Du får inte köra bil.\".\n",
    "\n",
    "\n"
   ]
  },
  {
   "cell_type": "code",
   "execution_count": null,
   "id": "09c73755",
   "metadata": {},
   "outputs": [],
   "source": [
    "# Skriv kod/svar här\n",
    "\n",
    "age = 18\n",
    "driving_license = True\n",
    "\n",
    "if age >= 18 and driving_license:\n",
    "    print(\"Du får köra bil.\")\n",
    "else:\n",
    "    print(\"Du får inte köra bil.\")"
   ]
  },
  {
   "cell_type": "markdown",
   "id": "6516ff67",
   "metadata": {},
   "source": [
    "\n",
    "\n",
    "### Uppgift 9.\n",
    "Skriv en kodsnutt som frågar användaren om deras ålder och skriver ut om de är tillräckligt gamla för att ta körkort (åldersgränsen är 18 år).\n"
   ]
  },
  {
   "cell_type": "code",
   "execution_count": 2,
   "id": "685049d5",
   "metadata": {},
   "outputs": [
    {
     "name": "stdout",
     "output_type": "stream",
     "text": [
      "You are allowed to drive\n"
     ]
    }
   ],
   "source": [
    "# Skriv kod/svar här\n",
    "\n",
    "user_age = int(input(\"How old are you? \"))\n",
    "\n",
    "if user_age >= 18:\n",
    "    print(\"You are allowed to drive\")\n",
    "else:\n",
    "    print(\"You are not allowed to drive\")"
   ]
  },
  {
   "cell_type": "markdown",
   "id": "36c72e38",
   "metadata": {},
   "source": [
    "\n",
    "### Uppgift 10.\n",
    "Skriv en kodsnutt som frågar användaren om de gillar choklad eller glass (användaren svarar med \"choklad\", \"glass\" eller \"båda\") och skriver ut \"Du gillar choklad!\", \"Du gillar glass!\" eller \"Du gillar både choklad och glass!\" beroende på svaret.\n"
   ]
  },
  {
   "cell_type": "markdown",
   "id": "3d1fd925",
   "metadata": {},
   "source": [
    "\n",
    "### **Uppgift 11.**\n",
    "\n",
    "1. Vad gör \"not\"-operatorn? \n",
    "2. Begrunda följande uttryck:"
   ]
  },
  {
   "cell_type": "markdown",
   "id": "c65f6138",
   "metadata": {},
   "source": [
    "```python\n",
    "if 50 == 40 and 50 == 50:\n",
    "   print(\"Does 50 == 50 ever get evaluated?\")\n",
    "\n",
    "if 50 == 40 or 50 == 50:\n",
    "   print(\"Does 50 == 50 ever get evaluated?\")\n",
    "```\n",
    "\n",
    "Kommer python fortsätta efter den första jämförelsen, dvs. efter and-operatorn, eller går interpretern vidare direkt?\n",
    "Tips, läs på dokumentation om \"short-circuit\" [https://docs.python.org/3/library/stdtypes.html#boolean-operations-and-or-not](https://docs.python.org/3/library/stdtypes.html#boolean-operations-and-or-not)"
   ]
  },
  {
   "cell_type": "code",
   "execution_count": null,
   "id": "c09dc710",
   "metadata": {},
   "outputs": [],
   "source": [
    "# Skriv kod/svar här\n",
    "# 1) Not operaton används för att ta reda på motsatta boolean värdet\n",
    "# 2) I första if-sasten kommer den aldrig gå vidare för att kolla om 50 == 50 är sant, för att den ser att \n",
    "#    50 == 40 är inte sant. När man använder variabeln \"and\" i en if sats måste båda villkoren vara sanna. \n",
    "#    Medans när man använder variabeln \"or\" krävs det bara att ett utav villkoren är sanna, därför kommer \n",
    "#    båda villkoren i den andra if-satsen att evalueras "
   ]
  },
  {
   "cell_type": "markdown",
   "id": "8a0e8417",
   "metadata": {},
   "source": [
    "\n",
    "### Uppgift 12.\n",
    "Vad skriver följande kod ut?\n",
    "```python\n",
    "x = 20\n",
    "if not x == 10 or x == 20:\n",
    "    print(\"Villkoret är uppfyllt.\")\n",
    "else:\n",
    "    print(\"Villkoret är inte uppfyllt.\")\n",
    "```"
   ]
  },
  {
   "cell_type": "code",
   "execution_count": null,
   "id": "c00b2af5",
   "metadata": {},
   "outputs": [],
   "source": [
    "# Skriv kod/svar här\n",
    "# \"Villkoret är uppfyllt.\""
   ]
  },
  {
   "cell_type": "markdown",
   "id": "9efac002",
   "metadata": {},
   "source": [
    "\n",
    "\n",
    "### **Uppgift 13.**\n",
    "\n",
    "Vad är skillnaden på en comparison-operator och en conditional? Beskriv hur de används tillsammans, både med ord och kod."
   ]
  },
  {
   "cell_type": "code",
   "execution_count": null,
   "id": "7a4e6695",
   "metadata": {},
   "outputs": [],
   "source": [
    "# Skriv kod/svar här\n",
    "# == är en comparison operator medans en if-sats är en contidional operator"
   ]
  },
  {
   "cell_type": "markdown",
   "id": "05141285",
   "metadata": {},
   "source": [
    "\n",
    "\n",
    "### **Uppgift 14**\n",
    "\n",
    "import random\n",
    "1. Vad gör import-ordet?"
   ]
  },
  {
   "cell_type": "code",
   "execution_count": null,
   "id": "0f6ff802",
   "metadata": {},
   "outputs": [],
   "source": [
    "# Skriv kod/svar här\n",
    "# Med hjälp av import-ordet kan vi importera filer, funktioner eller variabler från en annan fil osv"
   ]
  },
  {
   "cell_type": "markdown",
   "id": "a6cc32bd",
   "metadata": {},
   "source": [
    "### **Uppgift 15**\n",
    "\n",
    "Öppna din terminal och skriv in följande kod:\n",
    "\n",
    "import this\n",
    "\n",
    "*Reflektera*, finns det någon av punkterna du tror kanske har bidragit till pythons enorma framgång?\n",
    "\n",
    "\n",
    "Om du har svårt att ta ställning, kom tillbaka till detta senare i din resa mot att bli pythonutvecklare.\n",
    "Dessa punkter ligger ofta till grund för ordet \"pythonic\" - kod sägs vara \"pythonic\" när de försöker följa dessa guidelines. "
   ]
  }
 ],
 "metadata": {
  "interpreter": {
   "hash": "aee8b7b246df8f9039afb4144a1f6fd8d2ca17a180786b69acc140d282b71a49"
  },
  "kernelspec": {
   "display_name": "Python 3.11.5 64-bit",
   "name": "python3"
  },
  "language_info": {
   "codemirror_mode": {
    "name": "ipython",
    "version": 3
   },
   "file_extension": ".py",
   "mimetype": "text/x-python",
   "name": "python",
   "nbconvert_exporter": "python",
   "pygments_lexer": "ipython3",
   "version": "3.11.5"
  }
 },
 "nbformat": 4,
 "nbformat_minor": 5
}
