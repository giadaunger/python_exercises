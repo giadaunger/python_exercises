{
 "cells": [
  {
   "cell_type": "markdown",
   "id": "d19d0bbb",
   "metadata": {},
   "source": [
    "# Uppgifter flow control 1 - FACIT\n",
    "Du kan också göra uppgifter i automate the boring stuff kapitel 2.\n",
    "\n",
    "# Instruktioner\n",
    "DU SKA ALLTID FÖRSÖKA FÖRST INNAN DU KOLLAR FACIT!\n",
    "1. Läs frågan. Kolla boken, googla, kolla tutorialsidor\n",
    "2. Försök besvara frågan, testa kod, experimentera, kolla med kompis eller lärare\n",
    "3. Kolla facit\n",
    "\n",
    "### *Flödeskontroll 1*"
   ]
  },
  {
   "cell_type": "markdown",
   "id": "b309f4cb",
   "metadata": {},
   "source": [
    "### **Uppgift 1.**\n",
    "\n",
    "Varför behöver vi flödeskontroll när vi programmerar?"
   ]
  },
  {
   "cell_type": "markdown",
   "id": "017ba18c",
   "metadata": {},
   "source": [
    "### **Facit**\n",
    " Det vore oerhört tråkiga program om vi endast kunde exekvera kod sekventiellt utan att någonsin anpassa programmet efter data. Med flödeshantering kan vi exempelvis fråga en användare om input och beroende på svaret göra något helt annorlunda. Nyckelordet är \"beroende på\"! Samtidigt finns det också program som bör göra endast en - och bara **EN** sak, då behöver det ej vara nödvändigt med flödeskontroll."
   ]
  },
  {
   "cell_type": "markdown",
   "id": "30155914",
   "metadata": {},
   "source": [
    "### **Uppgift 2.**\n",
    "\n",
    "1. Vad är en boolean?\n",
    "2. Vilka värden är sanna och falska? Ge minst 5 exempel. Tips: \n",
    " Testa olika värden genom att använda bool()-klassen.\n",
    " Exempel:\n",
    " bool(\"test a string\")\n",
    " osv..\n",
    " Läs också igenom hela denna artikel: [https://www.freecodecamp.org/news/truthy-and-falsy-values-in-python/](https://www.freecodecamp.org/news/truthy-and-falsy-values-in-python/)\n",
    "3. Vad händer om du adderar eller subtraherar True och False?\n"
   ]
  },
  {
   "cell_type": "code",
   "execution_count": null,
   "id": "6ca7a174",
   "metadata": {},
   "outputs": [],
   "source": [
    "# Skriv kod/svar här"
   ]
  },
  {
   "cell_type": "markdown",
   "id": "d0102041",
   "metadata": {},
   "source": [
    "### **Facit**\n",
    "\n",
    "\n",
    "1. En Boolean är en datastruktur som antar endast två olika värden - True eller False. I python så skrivs booleans med stora bokstäver till skillnad från de flesta andra programmeringsspråken, ex. Javascript eller C#.\n",
    "2. \n",
    "```python\n",
    "bool([]) # tomma listor blir False!\n",
    "bool(1) # 1 representerar True\n",
    "bool(0) # 0 blir False\n",
    "bool(0.0) # 0 blir False\n",
    "bool(\"\") # en tom string blir False\n",
    "bool(\" \") # en sträng med space blir True\n",
    "```\n",
    "\n",
    "3. Det är helt möjligt, i dessa fall så behandlas booleans som 1 eller 0. True + True blir exempelvis 2, därför att True representerar integern 1.\n",
    "\n",
    "*Läs pythons egna definition av booleans här:*\n",
    "[https://docs.python.org/3/library/stdtypes.html#bltin-boolean-values](https://docs.python.org/3/library/stdtypes.html#bltin-boolean-values)"
   ]
  },
  {
   "cell_type": "markdown",
   "id": "6285af24",
   "metadata": {},
   "source": [
    "\n",
    "\n",
    "### **Uppgift 3.**\n",
    "1. Hur skiljer sig python from tex. andra programmeringsspråk när det gäller att definiera ett kodblock?\n",
    "2. Får du använda både tabs och spaces vid indentering (förskjutning av koden till höger)\n",
    "3. Vad kan gå fel? Ge ett kort exempel.\n",
    "\n",
    "### **Facit**\n",
    "\n",
    "1. Till skillnad från majoriteten av andra språk som använder sig av {}, \"måsvingar\", \"curly braces\" för att markera ett kodblock, använder sig python av indentering (white space / mellanslag).\n",
    "2. Ja det får du, men du måste vara konsekvent och använda antingen spaces eller tabs, du får inte mixa! I vscode så omvandlas tabs automatiskt till spaces, så du kan glatt trycka på tab ändå! Om denna inställning ej verkar fungera så går du in på settings (kugghjulet längst nere till vänster) och söker på \"insert spaces\" och tickar boxen.\n",
    "3. Mixning av spaces och tabs, för få spaces (best practice är 4 st! minst 1, annars får du error). Läs mer på [Pep 8](https://peps.python.org/pep-0008/#:~:text=Use%204%20spaces%20per%20indentation%20level.&text=The%204%2Dspace%20rule%20is%20optional%20for%20continuation%20lines.)\n",
    "\n",
    "### Uppgift 4.\n",
    "Vad skrivs ut av följande kod?\n",
    "\n"
   ]
  },
  {
   "cell_type": "markdown",
   "id": "81313aba",
   "metadata": {},
   "source": [
    "```python\n",
    "age = 20\n",
    "if age > 18:\n",
    "    print(\"Du får rösta.\")\n",
    "else:\n",
    "    print(\"Du får inte rösta.\")\n",
    "```"
   ]
  },
  {
   "cell_type": "code",
   "execution_count": null,
   "id": "b19c0442",
   "metadata": {},
   "outputs": [],
   "source": [
    "# Skriv kod/svar här"
   ]
  },
  {
   "cell_type": "markdown",
   "id": "4fed09e8",
   "metadata": {},
   "source": [
    "\n",
    "### Facit\n",
    "\"Du får rösta.\" skrivs ut eftersom age är större än 18.\n"
   ]
  },
  {
   "cell_type": "markdown",
   "id": "b1685420",
   "metadata": {},
   "source": [
    "### Uppgift 5.\n",
    "Vad skrivs ut av följande kod?\n"
   ]
  },
  {
   "cell_type": "markdown",
   "id": "2b7dd93c",
   "metadata": {},
   "source": [
    "```python\n",
    "x = 15\n",
    "if x < 10:\n",
    "    print(\"x är mindre än 10.\")\n",
    "elif x > 10 and x < 20:\n",
    "    print(\"x är större än 10 men mindre än 20.\")\n",
    "else:\n",
    "    print(\"x är större än 20.\")\n",
    "```"
   ]
  },
  {
   "cell_type": "code",
   "execution_count": null,
   "id": "9cab1a82",
   "metadata": {},
   "outputs": [],
   "source": [
    "# Skriv kod/svar här\n"
   ]
  },
  {
   "cell_type": "markdown",
   "id": "2c0efbb6",
   "metadata": {},
   "source": [
    "\n",
    "### Facit\n",
    "\"x är större än 10 men mindre än 20.\" skrivs ut eftersom x är större än 10 men mindre än 20."
   ]
  },
  {
   "cell_type": "markdown",
   "id": "bca23bcc",
   "metadata": {},
   "source": [
    "### Uppgift 6.\n",
    "Vad skrivs ut av följande kod?"
   ]
  },
  {
   "cell_type": "markdown",
   "id": "279180e4",
   "metadata": {},
   "source": [
    "\n",
    "```python\n",
    "age = 17\n",
    "driving_license = False\n",
    "\n",
    "if age >= 18 and driving_license:\n",
    "    print(\"Du får köra bil.\")\n",
    "else:\n",
    "    print(\"Du får inte köra bil.\")\n",
    "```\n"
   ]
  },
  {
   "cell_type": "code",
   "execution_count": null,
   "id": "b6ad9f77",
   "metadata": {},
   "outputs": [],
   "source": [
    "# Skriv din kod här# Skriv kod/svar här"
   ]
  },
  {
   "cell_type": "markdown",
   "id": "fa496c13",
   "metadata": {},
   "source": [
    "\n",
    "### Facit\n",
    "\"Du får inte köra bil.\" skrivs ut eftersom age är mindre än 18 och driving_license är False.\n"
   ]
  },
  {
   "cell_type": "markdown",
   "id": "d3b16670",
   "metadata": {},
   "source": [
    "### Uppgift 7.\n",
    "Vilka värden för x kommer att göra att följande kod skriver ut \"x är större än 10 men mindre än 20.\"?\n"
   ]
  },
  {
   "cell_type": "code",
   "execution_count": null,
   "id": "223f12ab",
   "metadata": {},
   "outputs": [],
   "source": [
    "if x < 10:\n",
    "    print(\"x är mindre än 10.\")\n",
    "elif x > 10 and x < 20:\n",
    "    print(\"x är större än 10 men mindre än 20.\")\n",
    "else:\n",
    "    print(\"x är större än 20.\")"
   ]
  },
  {
   "cell_type": "code",
   "execution_count": null,
   "id": "57211dc4",
   "metadata": {},
   "outputs": [],
   "source": [
    "# Skriv kod/svar här"
   ]
  },
  {
   "cell_type": "markdown",
   "id": "283d5a1a",
   "metadata": {},
   "source": [
    "\n",
    "### Facit\n",
    "Alla värden för x mellan 10 och 20, exklusive 10 och 20 (dvs. 10 < x < 20), kommer att göra att \"x är större än 10 men mindre än 20.\" skrivs ut.\n",
    "Tex. 11, 12,13,14,15,16,17,18,19\n"
   ]
  },
  {
   "cell_type": "markdown",
   "id": "6a875cc1",
   "metadata": {},
   "source": [
    "\n",
    "### Uppgift 8.\n",
    "Skriv en if-sats som skriver ut \"Du får köra bil.\" om variablerna age är större än eller lika med 18 och driving_license är True. I alla andra fall ska det skrivas ut \"Du får inte köra bil.\".\n",
    "\n",
    "\n"
   ]
  },
  {
   "cell_type": "code",
   "execution_count": null,
   "id": "09c73755",
   "metadata": {},
   "outputs": [],
   "source": [
    "# Skriv kod/svar här"
   ]
  },
  {
   "cell_type": "markdown",
   "id": "28381c4a",
   "metadata": {},
   "source": [
    "\n",
    "### Facit\n",
    "\n",
    "driving_license = True\n",
    "```python\n",
    "if age >= 18 and driving_license:\n",
    "    print(\"Du får köra bil.\")\n",
    "else:\n",
    "    print(\"Du får inte köra bil.\")\n",
    "```\n"
   ]
  },
  {
   "cell_type": "markdown",
   "id": "6516ff67",
   "metadata": {},
   "source": [
    "\n",
    "\n",
    "### Uppgift 9.\n",
    "Skriv en kodsnutt som frågar användaren om deras ålder och skriver ut om de är tillräckligt gamla för att ta körkort (åldersgränsen är 18 år).\n"
   ]
  },
  {
   "cell_type": "code",
   "execution_count": null,
   "id": "685049d5",
   "metadata": {},
   "outputs": [],
   "source": [
    "# Skriv kod/svar här"
   ]
  },
  {
   "cell_type": "markdown",
   "id": "f1648898",
   "metadata": {},
   "source": [
    "### Facit\n",
    "```python\n",
    "age = int(input(\"Hur gammal är du? \"))\n",
    "if age >= 18:\n",
    "    print(\"Du är tillräckligt gammal för att ta körkort.\")\n",
    "else:\n",
    "    print(\"Du är inte tillräckligt gammal för att ta körkort.\")\n",
    "```\n"
   ]
  },
  {
   "cell_type": "markdown",
   "id": "36c72e38",
   "metadata": {},
   "source": [
    "\n",
    "### Uppgift 10.\n",
    "Skriv en kodsnutt som frågar användaren om de gillar choklad eller glass (användaren svarar med \"choklad\", \"glass\" eller \"båda\") och skriver ut \"Du gillar choklad!\", \"Du gillar glass!\" eller \"Du gillar både choklad och glass!\" beroende på svaret.\n"
   ]
  },
  {
   "cell_type": "markdown",
   "id": "370dc299",
   "metadata": {},
   "source": [
    "### Facit\n",
    "```python\n",
    "answer = input(\"Gillar du choklad eller glass? \")\n",
    "if answer == \"choklad\":\n",
    "    print(\"Du gillar choklad!\")\n",
    "elif answer == \"glass\":\n",
    "    print(\"Du gillar glass!\")\n",
    "elif answer == \"båda\":\n",
    "    print(\"Du gillar både choklad och glass!\")\n",
    "else:\n",
    "    print(\"Du svarade inte korrekt.\")\n",
    "```\n"
   ]
  },
  {
   "cell_type": "markdown",
   "id": "3d1fd925",
   "metadata": {},
   "source": [
    "\n",
    "### **Uppgift 11.**\n",
    "\n",
    "1. Vad gör \"not\"-operatorn? \n",
    "2. Begrunda följande uttryck:"
   ]
  },
  {
   "cell_type": "markdown",
   "id": "c65f6138",
   "metadata": {},
   "source": [
    "```python\n",
    "if 50 == 40 and 50 == 50:\n",
    "   print(\"Does 50 == 50 ever get evaluated?\")\n",
    "\n",
    "if 50 == 40 or 50 == 50:\n",
    "   print(\"Does 50 == 50 ever get evaluated?\")\n",
    "```\n",
    "\n",
    "Kommer python fortsätta efter den första jämförelsen, dvs. efter and-operatorn, eller går interpretern vidare direkt?\n",
    "Tips, läs på dokumentation om \"short-circuit\" [https://docs.python.org/3/library/stdtypes.html#boolean-operations-and-or-not](https://docs.python.org/3/library/stdtypes.html#boolean-operations-and-or-not)"
   ]
  },
  {
   "cell_type": "code",
   "execution_count": null,
   "id": "c09dc710",
   "metadata": {},
   "outputs": [],
   "source": [
    "# Skriv kod/svar här"
   ]
  },
  {
   "cell_type": "markdown",
   "id": "15bb4f55",
   "metadata": {},
   "source": [
    "\n",
    "\n",
    "### **Facit**\n",
    "\n",
    "1. not-operatorn vänder om ett booleanskt uttryck - not 1 == 1 blir False, och not 1 == 2 blir True! Det kan också exempelvis kolla om något är tomt:\n",
    "\n",
    "```python\n",
    "empty_string = \"\"\n",
    "if not empty_string:\n",
    "   print(\"No value supplied!\")\n",
    "```\n",
    "\n",
    "\n",
    "2. short-circuiting inom python innebär bl.a. att vid en and-jämförelse så kommer python strunta i att titta på det andra värdet om det första är falskt. Vad skulle vara poängen? Ett kodblock under ett if-statement med and-operatorn får ju bara exekveras om *båda* sidorna är sanna!\n",
    "Samma princip gäller för **or**, men tvärt om - om det första uttrycket är sant så behöver python inte bry sig om att kolla på det andra, för det räcker med att endast **EN** sida är *True*.\n",
    "\n"
   ]
  },
  {
   "cell_type": "markdown",
   "id": "8a0e8417",
   "metadata": {},
   "source": [
    "\n",
    "### Uppgift 12.\n",
    "Vad skriver följande kod ut?\n",
    "```python\n",
    "x = 20\n",
    "if not x == 10 or x == 20:\n",
    "    print(\"Villkoret är uppfyllt.\")\n",
    "else:\n",
    "    print(\"Villkoret är inte uppfyllt.\")\n",
    "```"
   ]
  },
  {
   "cell_type": "code",
   "execution_count": null,
   "id": "c00b2af5",
   "metadata": {},
   "outputs": [],
   "source": [
    "# Skriv kod/svar här"
   ]
  },
  {
   "cell_type": "markdown",
   "id": "dbc59b5c",
   "metadata": {},
   "source": [
    "\n",
    "### Facit\n",
    "Koden skriver ut \"Villkoret är uppfyllt.\" not x == 10 är sant eftersom x inte är lika med 10, och x == 20 är också sant. Så, antingen det ena eller det andra måste vara sant för att hela uttrycket ska vara sant när vi använder or.\n"
   ]
  },
  {
   "cell_type": "markdown",
   "id": "9efac002",
   "metadata": {},
   "source": [
    "\n",
    "\n",
    "### **Uppgift 13.**\n",
    "\n",
    "Vad är skillnaden på en comparison-operator och en conditional? Beskriv hur de används tillsammans, både med ord och kod."
   ]
  },
  {
   "cell_type": "code",
   "execution_count": null,
   "id": "7a4e6695",
   "metadata": {},
   "outputs": [],
   "source": [
    "# Skriv kod/svar här"
   ]
  },
  {
   "cell_type": "markdown",
   "id": "c005541c",
   "metadata": {},
   "source": [
    "\n",
    "\n",
    "### **Facit**\n",
    " comparison operators är symboler som används för att jämföra två värden för som slutligen resulterar i True eller False. Vi använder sedan dessa booleans i conditionals (också kallat flow control statements, if, else, while,) mm. för att avgöra om kodblock ska exekveras eller inte.\n",
    "\n",
    "```python\n",
    "== är en comparison-operator, if är vår conditional\n",
    "if(10 == 10): \n",
    "   print(\"true\")\n",
    "\n",
    "```"
   ]
  },
  {
   "cell_type": "markdown",
   "id": "05141285",
   "metadata": {},
   "source": [
    "\n",
    "\n",
    "### **Uppgift 14**\n",
    "\n",
    "import random\n",
    "1. Vad gör import-ordet?"
   ]
  },
  {
   "cell_type": "code",
   "execution_count": null,
   "id": "0f6ff802",
   "metadata": {},
   "outputs": [],
   "source": [
    "# Skriv kod/svar här"
   ]
  },
  {
   "cell_type": "markdown",
   "id": "525b0ee9",
   "metadata": {},
   "source": [
    "\n",
    "\n",
    "### **Facit**\n",
    "Import importerar en modul, i detta fall från pythons standard library. "
   ]
  },
  {
   "cell_type": "markdown",
   "id": "a6cc32bd",
   "metadata": {},
   "source": [
    "### **Uppgift 15**\n",
    "\n",
    "Öppna din terminal och skriv in följande kod:\n",
    "\n",
    "import this\n",
    "\n",
    "*Reflektera*, finns det någon av punkterna du tror kanske har bidragit till pythons enorma framgång?\n",
    "\n",
    "\n",
    "Om du har svårt att ta ställning, kom tillbaka till detta senare i din resa mot att bli pythonutvecklare.\n",
    "Dessa punkter ligger ofta till grund för ordet \"pythonic\" - kod sägs vara \"pythonic\" när de försöker följa dessa guidelines. "
   ]
  },
  {
   "cell_type": "markdown",
   "id": "62b7828f",
   "metadata": {},
   "source": [
    "\n",
    "### **Facit**\n",
    "\n",
    "En tanke är att pythons framgång hör till dess simplicitet, en annan att pythons framgång kan tänkas vara kopplat till hur produktivt/snabbt du kan producera kod. \n",
    "\n"
   ]
  }
 ],
 "metadata": {
  "kernelspec": {
   "display_name": "venv",
   "language": "python",
   "name": "python3"
  },
  "language_info": {
   "name": "python",
   "version": "3.10.6"
  }
 },
 "nbformat": 4,
 "nbformat_minor": 5
}
