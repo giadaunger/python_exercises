{
 "cells": [
  {
   "cell_type": "markdown",
   "metadata": {},
   "source": [
    "# Uppgifter variabler & datatyper - FACIT\n",
    "Du kan också göra uppgifter i automate the boring stuff kapitel 1.\n",
    "\n",
    "# Instruktioner\n",
    "DU SKA ALLTID FÖRSÖKA FÖRST INNAN DU KOLLAR FACIT!\n",
    "1. Läs frågan. Kolla boken, googla, kolla tutorialsidor\n",
    "2. Försök besvara frågan, testa kod, experimentera, kolla med kompis eller lärare\n",
    "3. Kolla facit"
   ]
  },
  {
   "cell_type": "markdown",
   "metadata": {},
   "source": [
    "# Om jupyter notebooks - hur gör man?"
   ]
  },
  {
   "cell_type": "markdown",
   "metadata": {},
   "source": [
    "Detta är en markdown-cell, där man kan skriva markdown syntax. Jag använder markdown för att ibland skriva text i dessa uppgifter, och samtidigt kunna skriva ut kod som är formaterat snyggt. Du kan dubbelklicka på en cell för att öppna den, och sedan trycka på \"checkmarken\" uppe till vänster. Du kan också ta bort celler genom att trycka på papperskorgen uppe till vänster om cellen om du tryckt på den."
   ]
  },
  {
   "cell_type": "code",
   "execution_count": 1,
   "metadata": {},
   "outputs": [],
   "source": [
    "# Detta är ett kodblock - du kan köra cellen genom att trycka på play-knappen till vänster. \n",
    "# Kom ihåg att du måste ha valt en \"kernel\", vilket du gör uppe till högra hörnet.\n",
    "print(\"Tryck på play-knappen som körs den här koden\")\n",
    "\n",
    "# Du kan också köra en cell genom att trycka ctrl + enter i vscode eller shift + enter i colab"
   ]
  },
  {
   "cell_type": "markdown",
   "metadata": {},
   "source": [
    "### *variabler och listor*"
   ]
  },
  {
   "cell_type": "markdown",
   "metadata": {},
   "source": [
    "### **Uppgift 1.**\n",
    "\n",
    "1. Hur skriver du en kommentar i koden?\n",
    "2. Vad gör print()?"
   ]
  },
  {
   "cell_type": "code",
   "execution_count": null,
   "metadata": {},
   "outputs": [],
   "source": [
    "# Svara här:"
   ]
  },
  {
   "cell_type": "markdown",
   "metadata": {},
   "source": [
    "### **Facit**\n",
    "1. Du använder # innan det du vill säga\n",
    "\n",
    "```python\n",
    "# Detta är en kommentar, python ignorerar det\n",
    "```\n",
    "2. print() är en funktion (vi ska prata om funktioner mer detaljerat vecka 2) som skickar ut output till konsolen / terminalen"
   ]
  },
  {
   "cell_type": "code",
   "execution_count": null,
   "metadata": {},
   "outputs": [],
   "source": [
    "print(\"Hello!\")"
   ]
  },
  {
   "cell_type": "markdown",
   "metadata": {},
   "source": [
    "### **Uppgift 2.** \n",
    "\n",
    "Varför är en variabel inte bara en \"låda\" som vi stoppar ett värde in i? Försök förklara med hjälp av att använda funktionen id() på variabler. Förklara också vad id()-funktionen gör.\n"
   ]
  },
  {
   "cell_type": "code",
   "execution_count": null,
   "metadata": {},
   "outputs": [],
   "source": [
    "# Skriv kod / svar här"
   ]
  },
  {
   "cell_type": "markdown",
   "metadata": {},
   "source": [
    "### **Facit**\n",
    " En variabel är en referens till ett objekt, dvs. snarare en namnlapp/ett snöre som i sin tur leder till data. Det är därför vi kan ha två variabler som leder till samma sak! \n",
    "\n",
    "```python\n",
    "first_variable = \"tobias\"\n",
    "second_variable = first_variable\n",
    "id(first_variable)\n",
    ">>> 123123123\n",
    "id(second_variable)\n",
    ">>> 123123123\n",
    "```"
   ]
  },
  {
   "cell_type": "markdown",
   "metadata": {},
   "source": [
    "2. Ge några exempel på lagliga och \"olagliga\" variabelnamn (variabelnamn med inkorrekt *syntax*, dvs. bryter mot pythons regler). Kopiera inte från boken, pröva alla tänkbara knäppa variabelnamn i terminalen.\n"
   ]
  },
  {
   "cell_type": "code",
   "execution_count": null,
   "metadata": {},
   "outputs": [],
   "source": [
    "# Svara här:"
   ]
  },
  {
   "cell_type": "markdown",
   "metadata": {},
   "source": [
    "### **Facit**\n",
    "\n",
    "exempel:\n",
    "```python\n",
    ">>>hello=\"funkar\"\n",
    ">>>Hello\"stor bokstav verkar funka\"\n",
    ">>>5hello=\"funkar inte\"\n",
    ">>>?hello=\"funkar inte\"\n",
    "\n",
    "```"
   ]
  },
  {
   "cell_type": "markdown",
   "metadata": {},
   "source": [
    "3. Vad är skillnaden mellan snake case och camelcase? Vad används inom python för namngivning av variabler?\n"
   ]
  },
  {
   "cell_type": "code",
   "execution_count": null,
   "metadata": {},
   "outputs": [],
   "source": [
    "# Svara här"
   ]
  },
  {
   "cell_type": "markdown",
   "metadata": {},
   "source": [
    "### **Facit**\n",
    " snake case är en stil vid namngivning av kod där ord och mellanrum delas upp med understräck. \n",
    "```python\n",
    "my_variable_name = \"snake case!\" # snake case\n",
    "MyVariableName = \"camel case!\" # camel case, alla orden börjar med stor bokstav.\n",
    "```"
   ]
  },
  {
   "cell_type": "markdown",
   "metadata": {},
   "source": [
    "\n",
    "4. Vart kan du ta reda på vilka \"stilregler\" som gäller när du ska skriva pythonkod? tex. variabler, funktioner osv."
   ]
  },
  {
   "cell_type": "code",
   "execution_count": null,
   "metadata": {},
   "outputs": [],
   "source": [
    "# Svara här"
   ]
  },
  {
   "cell_type": "markdown",
   "metadata": {},
   "source": [
    "\n",
    "### **Facit**\n",
    " Pep 8 - pythons stilguide. [https://peps.python.org/pep-0008/](https://peps.python.org/pep-0008/)"
   ]
  },
  {
   "cell_type": "markdown",
   "metadata": {},
   "source": [
    "### **Uppgift 3.** \n",
    "1. Multiplicera 5 med 5\n",
    "\n",
    "2. Dividera 5 med 5\n",
    "\n",
    "3. Vad blir 10+5/5\n",
    "\n",
    "4. vad blir (10+5)/5? Varför?\n",
    "\n",
    "5. Vad kallas %-symbolen för, och vad gör den? Kan du komma på något use case då operatorn är användbar?"
   ]
  },
  {
   "cell_type": "code",
   "execution_count": null,
   "metadata": {},
   "outputs": [],
   "source": []
  },
  {
   "cell_type": "markdown",
   "metadata": {},
   "source": [
    "### **Facit**\n",
    "\n",
    "```python\n",
    ">>> 5 * 5\n",
    "25\n",
    ">>> 5/5\n",
    "1\n",
    ">>>10 + 5/5 \n",
    "11.0\n",
    ">>> (10+5)/5 # Paranteser evalueras först!\n",
    "3.0\n",
    "```\n",
    "% kallas för modulo-operatorn.\n",
    "För praktiska exempel se längst ner:\n",
    "[https://www.pythontutorial.net/advanced-python/python-modulo/](https://www.pythontutorial.net/advanced-python/python-modulo/) "
   ]
  },
  {
   "cell_type": "markdown",
   "metadata": {},
   "source": [
    "### **Uppgift 4.**\n",
    "Gå igenom följande kod. Kör varje rad för sig och se vad som händer. Varför blir det fel?\n"
   ]
  },
  {
   "cell_type": "code",
   "execution_count": null,
   "metadata": {},
   "outputs": [],
   "source": [
    "print(\"Python är ett fantastiskt språk.\")\n",
    "print('Det är skapat av en nederländsk man,')\n",
    "print(\"han heter \"Guido van rossum\"\")\n",
    "print(\"Ibland kallas han också för 'diktatorn'\")\n",
    "age = 66\n",
    "print(\"Han är\" + age + \"år gammal\")"
   ]
  },
  {
   "cell_type": "markdown",
   "metadata": {},
   "source": [
    "### **Facit**\n",
    " Tredje raden får error eftersom vi använder \"\" innanför \"\". Fjärde print lyckas eftersom vi ersatt \"\" med ''. Vi kan på samma sätt köra omvänt med apostrofer utanför och citat innanför, tex: '\"Hej\"'. Poängen är - vi kan välja mellan citat och apostrof, men om vi ska använda det innanför varandra så får ej yttre vara samma som inre!"
   ]
  },
  {
   "cell_type": "markdown",
   "metadata": {},
   "source": [
    "### **Uppgift 5.**\n",
    "Vad gör följande kod fel och hur kan vi lösa det med typecasting?\n",
    "\n",
    "```python\n",
    "age = 25\n",
    "print(\"Han är \" + age + \" år gammal.\")\n",
    "```\n"
   ]
  },
  {
   "cell_type": "markdown",
   "metadata": {},
   "source": [
    "### **Facit**"
   ]
  },
  {
   "cell_type": "code",
   "execution_count": null,
   "metadata": {},
   "outputs": [],
   "source": [
    "age = 25\n",
    "print(\"Han är \" + str(age) + \" år gammal.\")"
   ]
  },
  {
   "cell_type": "markdown",
   "metadata": {},
   "source": [
    "### **Uppgift 6.**\n",
    "1. Vad gör input()-funktionen? Varför är den användbar? Svara med meningar.\n",
    "\n",
    "2. Skriv ett program som ber användaren skriva in sitt namn, printa sedan ut det i terminalen\n"
   ]
  },
  {
   "cell_type": "markdown",
   "metadata": {},
   "source": [
    "### **Facit**\n",
    "\n",
    " 1. input() gör exakt vad den heter - den tar någon typ av input via keyboardet och låter oss sedan använda datan i koden."
   ]
  },
  {
   "cell_type": "code",
   "execution_count": null,
   "metadata": {},
   "outputs": [],
   "source": [
    "# 2\n",
    "name = input()\n",
    "print(name)"
   ]
  },
  {
   "cell_type": "markdown",
   "metadata": {},
   "source": [
    "### **Uppgift 7.**\n",
    "Skriv en kod som tar en input från användaren i form av en sträng. Koden ska sedan konvertera strängen till ett flyttal och dividera den med 2. Hur gör vi detta?"
   ]
  },
  {
   "cell_type": "code",
   "execution_count": null,
   "metadata": {},
   "outputs": [],
   "source": [
    "# Korrigera koden\n",
    "number = input(\"Ange ett nummer: \")\n",
    "half = number / 2\n",
    "print(\"Hälften av ditt nummer är \" + half)"
   ]
  },
  {
   "cell_type": "markdown",
   "metadata": {},
   "source": [
    "### **Facit**\n"
   ]
  },
  {
   "cell_type": "code",
   "execution_count": null,
   "metadata": {},
   "outputs": [],
   "source": [
    "number = float(input(\"Ange ett nummer: \"))\n",
    "half = number / 2"
   ]
  },
  {
   "cell_type": "markdown",
   "metadata": {},
   "source": [
    "### **Uppgift 8**\n",
    "\n",
    "Är python: \n",
    "1. ett dynamiskt eller statiskt typat programmeringsspråk?\n",
    "2. ett svagt eller starkt typat programmeringsspråk?\n",
    "Vad menar vi med detta? Försök svara med kod och meningar."
   ]
  },
  {
   "cell_type": "code",
   "execution_count": null,
   "metadata": {},
   "outputs": [],
   "source": [
    "# Svara här\n"
   ]
  },
  {
   "cell_type": "markdown",
   "metadata": {},
   "source": [
    "### **Facit**\n",
    " Python är ett dynamiskt starkt typat språk!\n",
    "Det innebär att:\n",
    "1. Vi behöver inte explicit definiera typer när vi ska skapa en variabel.\n",
    "Ex så skriver du så här i många **statiskt** typade språk:\n",
    "```python\n",
    "# statiskt typade språk exempel:\n",
    "int my_variable_name = 500;\n",
    "# exempel i python\n",
    "my_variable_name = 500\n",
    "```\n",
    "Det är för att python säger \"du behöver inte skriva den innan, jag kollar det samtidigt som jag tolkar koden du skrivit\" - dvs. python kollar om variabeln är en string, int, float osv. under \"runtime\" (när koden körs). I statiskt typade språk så kommer detta istället göras vid kompilering (när ett projekt byggs och \"omvandlas\" till maskinkod)\n",
    "Läs mer: [https://realpython.com/python-type-checking/](https://realpython.com/python-type-checking/)\n",
    "\n",
    "1. **... Men \"starkt typat\" då?**\n",
    "Det innebär att vi förvisso inte behöver definiera typer i förväg, men 1) alla objekt i python har ändå en type, 2) vi måste ändå EXPLICIT konvertera typer om vi ska genomföra operationer mellan data som inte är av samma type. Ni såg detta med errorn där vi försökte \"plussa\" en string (text) med en int (heltal). \n",
    "Python vill att vi kör:\n",
    "```python\n",
    "# Plussa / Concatenata två värden av olika typer, vi konverterar siffran till en string med str()\n",
    ">>> str(\"Jag är så här gammal\") + str(50) # OK\n",
    "# Konvertera en sträng med en siffra till en int\n",
    "# Notera citaten, första värdet är en string\n",
    ">>> int(\"50\") + 50 # OK!\n",
    "100\n",
    ">>> \"50\" + 50 # INTE OK!\n",
    "```\n",
    "\n",
    "I javascript så hade du exempelvis fått skriva\n",
    "```javascript\n",
    "50 + \"50\" # Lagligt i javascript som är ett dynamiskt SVAGT typat språk\n",
    "```"
   ]
  },
  {
   "cell_type": "markdown",
   "metadata": {},
   "source": [
    "### **Uppgift 9**\n",
    "Vad kan jag göra för att lösa errorn i den sista printen?"
   ]
  },
  {
   "cell_type": "code",
   "execution_count": null,
   "metadata": {},
   "outputs": [],
   "source": [
    "print(\"Han är\" + age + \"år gammal\")"
   ]
  },
  {
   "cell_type": "markdown",
   "metadata": {},
   "source": [
    "\n",
    "### **Facit**\n",
    " Använd str() på age, eller använd en f-sträng"
   ]
  },
  {
   "cell_type": "code",
   "execution_count": null,
   "metadata": {},
   "outputs": [],
   "source": [
    "# Med f-string\n",
    "print(f\"Han är {age} år gammal\")\n",
    "# med hjälp av typecasting (konvertering av en typ till en annan)\n",
    "print(\"Han är \" + str(age) + \" år gammal\")"
   ]
  },
  {
   "cell_type": "markdown",
   "metadata": {},
   "source": [
    "### **Uppgift 10**\n",
    "Hur kollar jag vad en variabel har för typ? Varför kan det vara användbart? Svara med kod och meningar."
   ]
  },
  {
   "cell_type": "code",
   "execution_count": 8,
   "metadata": {},
   "outputs": [],
   "source": [
    "# Svara här"
   ]
  },
  {
   "cell_type": "markdown",
   "metadata": {},
   "source": [
    "### **Facit**\n",
    "\n",
    "Använd funktionen type() eller isinstance()\n",
    "tex. \n",
    "```python\n",
    ">>>type(50)\n",
    "<class 'int'>\n",
    "```\n",
    "Användbart för att ibland kunna säkerställa att vi kan utföra operationer på ett objekt utan att få errors. Ofta också användbart för felsökning."
   ]
  },
  {
   "cell_type": "code",
   "execution_count": 9,
   "metadata": {},
   "outputs": [
    {
     "data": {
      "text/plain": [
       "True"
      ]
     },
     "execution_count": 9,
     "metadata": {},
     "output_type": "execute_result"
    }
   ],
   "source": [
    "age = 50\n",
    "isinstance(age, int)"
   ]
  }
 ],
 "metadata": {
  "kernelspec": {
   "display_name": "venv",
   "language": "python",
   "name": "python3"
  },
  "language_info": {
   "codemirror_mode": {
    "name": "ipython",
    "version": 3
   },
   "file_extension": ".py",
   "mimetype": "text/x-python",
   "name": "python",
   "nbconvert_exporter": "python",
   "pygments_lexer": "ipython3",
   "version": "3.10.6"
  },
  "orig_nbformat": 4
 },
 "nbformat": 4,
 "nbformat_minor": 2
}
