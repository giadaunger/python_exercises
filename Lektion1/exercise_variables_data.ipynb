{
 "cells": [
  {
   "cell_type": "markdown",
   "metadata": {},
   "source": [
    "# Uppgifter variabler & datatyper - FACIT\n",
    "Du kan också göra uppgifter i automate the boring stuff kapitel 1.\n",
    "\n",
    "# Instruktioner\n",
    "DU SKA ALLTID FÖRSÖKA FÖRST INNAN DU KOLLAR FACIT!\n",
    "1. Läs frågan. Kolla boken, googla, kolla tutorialsidor\n",
    "2. Försök besvara frågan, testa kod, experimentera, kolla med kompis eller lärare\n",
    "3. Kolla facit"
   ]
  },
  {
   "cell_type": "markdown",
   "metadata": {},
   "source": [
    "# Om jupyter notebooks - hur gör man?"
   ]
  },
  {
   "cell_type": "markdown",
   "metadata": {},
   "source": [
    "Detta är en markdown-cell, där man kan skriva markdown syntax. Jag använder markdown för att ibland skriva text i dessa uppgifter, och samtidigt kunna skriva ut kod som är formaterat snyggt. Du kan dubbelklicka på en cell för att öppna den, och sedan trycka på \"checkmarken\" uppe till vänster. Du kan också ta bort celler genom att trycka på papperskorgen uppe till vänster om cellen om du tryckt på den."
   ]
  },
  {
   "cell_type": "code",
   "execution_count": 1,
   "metadata": {},
   "outputs": [
    {
     "name": "stdout",
     "output_type": "stream",
     "text": [
      "Tryck på play-knappen som körs den här koden\n"
     ]
    }
   ],
   "source": [
    "# Detta är ett kodblock - du kan köra cellen genom att trycka på play-knappen till vänster. \n",
    "# Kom ihåg att du måste ha valt en \"kernel\", vilket du gör uppe till högra hörnet.\n",
    "print(\"Tryck på play-knappen som körs den här koden\")\n",
    "\n",
    "# Du kan också köra en cell genom att trycka ctrl + enter i vscode eller shift + enter i colab"
   ]
  },
  {
   "cell_type": "markdown",
   "metadata": {},
   "source": [
    "### *variabler och listor*"
   ]
  },
  {
   "cell_type": "markdown",
   "metadata": {},
   "source": [
    "### **Uppgift 1.**\n",
    "\n",
    "1. Hur skriver du en kommentar i koden?\n",
    "2. Vad gör print()?"
   ]
  },
  {
   "cell_type": "code",
   "execution_count": 3,
   "metadata": {},
   "outputs": [
    {
     "name": "stdout",
     "output_type": "stream",
     "text": [
      "Med hjälp av print()-kommandot kan du printa saker i terminalen\n"
     ]
    }
   ],
   "source": [
    "# En kommentar skriver man med hjälp av en hashtag\n",
    "print(\"Med hjälp av print()-kommandot kan du printa saker i terminalen\")"
   ]
  },
  {
   "cell_type": "markdown",
   "metadata": {},
   "source": [
    "### **Uppgift 2.** \n",
    "\n",
    "Varför är en variabel inte bara en \"låda\" som vi stoppar ett värde in i? Försök förklara med hjälp av att använda funktionen id() på variabler. Förklara också vad id()-funktionen gör.\n"
   ]
  },
  {
   "cell_type": "code",
   "execution_count": null,
   "metadata": {},
   "outputs": [],
   "source": [
    "# Skriv kod / svar här"
   ]
  },
  {
   "cell_type": "markdown",
   "metadata": {},
   "source": [
    "### **Uppgift 3.** \n",
    "1. Multiplicera 5 med 5\n",
    "\n",
    "2. Dividera 5 med 5\n",
    "\n",
    "3. Vad blir 10+5/5\n",
    "\n",
    "4. vad blir (10+5)/5? Varför?\n",
    "\n",
    "5. Vad kallas %-symbolen för, och vad gör den? Kan du komma på något use case då operatorn är användbar?"
   ]
  },
  {
   "cell_type": "code",
   "execution_count": 6,
   "metadata": {},
   "outputs": [
    {
     "name": "stdout",
     "output_type": "stream",
     "text": [
      "25\n",
      "1.0\n",
      "11.0\n"
     ]
    }
   ],
   "source": [
    "# Svara här\n",
    "print(5*5)\n",
    "print(5/5)\n",
    "print(10+5/5)\n",
    "print(\"% kallas för modulo-operatorn.\")\n"
   ]
  },
  {
   "cell_type": "code",
   "execution_count": null,
   "metadata": {},
   "outputs": [],
   "source": []
  },
  {
   "cell_type": "code",
   "execution_count": null,
   "metadata": {},
   "outputs": [],
   "source": []
  },
  {
   "cell_type": "markdown",
   "metadata": {},
   "source": [
    "### **Uppgift 4.**\n",
    "Gå igenom följande kod. Kör varje rad för sig och se vad som händer. Varför blir det fel?\n"
   ]
  },
  {
   "cell_type": "code",
   "execution_count": 12,
   "metadata": {},
   "outputs": [
    {
     "name": "stdout",
     "output_type": "stream",
     "text": [
      "Python är ett fantastiskt språk.\n",
      "Det är skapat av en nederländsk man,\n",
      "han heter Guido van rossum\n",
      "Ibland kallas han också för 'diktatorn'\n",
      "Han är66år gammal\n"
     ]
    }
   ],
   "source": [
    "print(\"Python är ett fantastiskt språk.\")\n",
    "print('Det är skapat av en nederländsk man,')\n",
    "print(\"han heter Guido van rossum\")\n",
    "print(\"Ibland kallas han också för 'diktatorn'\")\n",
    "age = 66\n",
    "print(\"Han är\" + str(age) + \"år gammal\")"
   ]
  },
  {
   "cell_type": "markdown",
   "metadata": {},
   "source": [
    "### **Uppgift 5.**\n",
    "Vad gör följande kod fel och hur kan vi lösa det med typecasting?\n",
    "\n",
    "```python\n",
    "age = 25\n",
    "print(\"Han är \" + age + \" år gammal.\")\n",
    "```\n"
   ]
  },
  {
   "cell_type": "code",
   "execution_count": null,
   "metadata": {},
   "outputs": [],
   "source": [
    "# Svara här\n",
    "# Detta händer när man försöker att \"concatenate\" ett int objekt med en string."
   ]
  },
  {
   "cell_type": "markdown",
   "metadata": {},
   "source": [
    "### **Uppgift 6.**\n",
    "1. Vad gör input()-funktionen? Varför är den användbar? Svara med meningar.\n",
    "\n",
    "2. Skriv ett program som ber användaren skriva in sitt namn, printa sedan ut det i terminalen\n"
   ]
  },
  {
   "cell_type": "code",
   "execution_count": 13,
   "metadata": {},
   "outputs": [
    {
     "name": "stdout",
     "output_type": "stream",
     "text": [
      "Giada\n"
     ]
    }
   ],
   "source": [
    "# Svara här\n",
    "# Input funktionen ber användaren att att skriva in något. Detta kan vara användbart när man vill spara ett \n",
    "# värde som bestäms av en eanvändare.\n",
    "\n",
    "user_name = input(\"Skriv ditt namn: \")\n",
    "print(user_name)"
   ]
  },
  {
   "cell_type": "markdown",
   "metadata": {},
   "source": [
    "### **Uppgift 7.**\n",
    "Skriv en kod som tar en input från användaren i form av en sträng. Koden ska sedan konvertera strängen till ett flyttal och dividera den med 2. Hur gör vi detta?"
   ]
  },
  {
   "cell_type": "code",
   "execution_count": 16,
   "metadata": {},
   "outputs": [
    {
     "name": "stdout",
     "output_type": "stream",
     "text": [
      "Hälften av ditt nummer är 2.0\n"
     ]
    }
   ],
   "source": [
    "# Korrigera koden\n",
    "number = int(input(\"Ange ett nummer: \"))\n",
    "half = number / 2\n",
    "print(\"Hälften av ditt nummer är \" + str(half))"
   ]
  },
  {
   "cell_type": "markdown",
   "metadata": {},
   "source": [
    "### **Uppgift 8.**\n",
    "\n",
    "Är python: \n",
    "1. ett dynamiskt eller statiskt typat programmeringsspråk?\n",
    "2. ett svagt eller starkt typat programmeringsspråk?\n",
    "Vad menar vi med detta? Försök svara med kod och meningar."
   ]
  },
  {
   "cell_type": "code",
   "execution_count": null,
   "metadata": {},
   "outputs": [],
   "source": [
    "# Svara här\n",
    "# Python är ett dynamiskt starkt typat språk"
   ]
  },
  {
   "cell_type": "markdown",
   "metadata": {},
   "source": [
    "### **Uppgift 9.**\n",
    "Vad kan jag göra för att lösa errorn i den sista printen?"
   ]
  },
  {
   "cell_type": "code",
   "execution_count": 18,
   "metadata": {},
   "outputs": [
    {
     "name": "stdout",
     "output_type": "stream",
     "text": [
      "Han är 66 år gammal\n"
     ]
    }
   ],
   "source": [
    "print(\"Han är \" + str(age) + \" år gammal\")"
   ]
  },
  {
   "cell_type": "markdown",
   "metadata": {},
   "source": [
    "### **Uppgift 10.**\n",
    "Hur kollar jag vad en variabel har för typ? Varför kan det vara användbart? Svara med kod och meningar."
   ]
  },
  {
   "cell_type": "code",
   "execution_count": 19,
   "metadata": {},
   "outputs": [
    {
     "name": "stdout",
     "output_type": "stream",
     "text": [
      "<class 'int'>\n"
     ]
    }
   ],
   "source": [
    "# Svara här\n",
    "# Med hjälp av funktionen type()\n",
    "\n",
    "age = 21\n",
    "print(type(age))"
   ]
  }
 ],
 "metadata": {
  "interpreter": {
   "hash": "aee8b7b246df8f9039afb4144a1f6fd8d2ca17a180786b69acc140d282b71a49"
  },
  "kernelspec": {
   "display_name": "Python 3.11.5 64-bit",
   "name": "python3"
  },
  "language_info": {
   "codemirror_mode": {
    "name": "ipython",
    "version": 3
   },
   "file_extension": ".py",
   "mimetype": "text/x-python",
   "name": "python",
   "nbconvert_exporter": "python",
   "pygments_lexer": "ipython3",
   "version": "3.11.5"
  },
  "orig_nbformat": 4
 },
 "nbformat": 4,
 "nbformat_minor": 2
}
