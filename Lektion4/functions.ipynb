{
 "cells": [
  {
   "cell_type": "markdown",
   "metadata": {},
   "source": [
    "# Uppgifter functions - FACIT\n",
    "Du kan också göra uppgifter i automate the boring stuff kapitel 3.\n",
    "\n",
    "# Instruktioner\n",
    "DU SKA ALLTID FÖRSÖKA FÖRST INNAN DU KOLLAR FACIT!\n",
    "1. Läs frågan. Kolla boken, googla, kolla tutorialsidor\n",
    "2. Försök besvara frågan, testa kod, experimentera, kolla med kompis eller lärare\n",
    "3. Kolla facit\n"
   ]
  },
  {
   "cell_type": "markdown",
   "metadata": {},
   "source": [
    "## Funktioner\n"
   ]
  },
  {
   "cell_type": "markdown",
   "metadata": {},
   "source": [
    "### **Uppgift 1.**\n",
    "Googla på \"don't repeat yourself programming\", ofta förkortat \"DRY\" - hur hjälper funktioner dig att följa denna princip?\n",
    "Exempel på kort läsning om DRY: [klicka här](https://www.earthdatascience.org/courses/earth-analytics/automate-science-workflows/write-efficient-code-for-science-r/#:~:text=DRY%20(Don%27t%20Repeat%20Yourself)%20is%20a%20principle%20of,single%20instance%20of%20that%20task!)\n"
   ]
  },
  {
   "cell_type": "code",
   "execution_count": null,
   "metadata": {},
   "outputs": [],
   "source": [
    "# Svara här"
   ]
  },
  {
   "cell_type": "markdown",
   "metadata": {},
   "source": [
    "### **Uppgift 2.**\n",
    "\n",
    "När vi pratar om funktioner, vad är\n",
    "1. En parameter?\n",
    "2. Ett argument?\n"
   ]
  },
  {
   "cell_type": "code",
   "execution_count": null,
   "metadata": {},
   "outputs": [],
   "source": [
    "# Svara här"
   ]
  },
  {
   "cell_type": "markdown",
   "metadata": {},
   "source": [
    "### **Uppgift 3.**\n",
    "Om en funktion inte haft parametrar, hade de fortfarande varit användbara?\n"
   ]
  },
  {
   "cell_type": "code",
   "execution_count": null,
   "metadata": {},
   "outputs": [],
   "source": [
    "# Svara här:"
   ]
  },
  {
   "cell_type": "markdown",
   "metadata": {},
   "source": [
    "### **Uppgift 4.**\n",
    "1. Om en funktion har en parameter definierad, tex:\n",
    "```python\n",
    "def func_with_parameter(my_parameter):\n",
    "   ...\n",
    "```\n",
    "Är jag tvingad till att anropa / calla funktionen med ett argument? Testa!"
   ]
  },
  {
   "cell_type": "code",
   "execution_count": null,
   "metadata": {},
   "outputs": [],
   "source": [
    "# Svara här:\n",
    "def func_with_parameter(my_parameter):\n",
    "   print(\"Hello\")\n",
    "\n",
    "# Skriv kod"
   ]
  },
  {
   "cell_type": "markdown",
   "metadata": {},
   "source": [
    "2. Hur kan jag definiera en funktion på ett sätt som gör det valbart att tillhandlahålla ett argument?\n",
    "Lästips: [pythons dokumentation om default arguments](https://docs.python.org/3/tutorial/controlflow.html#default-argument-values)\n"
   ]
  },
  {
   "cell_type": "code",
   "execution_count": null,
   "metadata": {},
   "outputs": [],
   "source": [
    "# Svara här"
   ]
  },
  {
   "cell_type": "markdown",
   "metadata": {},
   "source": [
    "### **Uppgift 4**\n",
    "\n",
    "1. Vad gör nyckelordet pass? Tex:\n",
    "\n",
    "```python\n",
    "def func_with_parameter(my_parameter):\n",
    "   pass\n",
    "```\n",
    "Tips: Testa att köra både med och utan pass-keywordet (med en tom funktion)\n",
    "\n",
    "2. Hur kan keywordet vara användbart?\n",
    "\n",
    "\n",
    "\n"
   ]
  },
  {
   "cell_type": "code",
   "execution_count": null,
   "metadata": {},
   "outputs": [],
   "source": [
    "# Svara här"
   ]
  },
  {
   "cell_type": "markdown",
   "metadata": {},
   "source": [
    "### **Uppgift 5**\n",
    "\n",
    "1. Förklara vad \"in\" gör i denna kod gör. Keywordet används två gånger,vad är skillnaden på dessa två användningsområden?:\n",
    "```python\n",
    "names = [\"tobias\", \"andreas\", \"tove\"]\n",
    "new_names = []\n",
    "for name in names:\n",
    "   if \"to\" in name:\n",
    "      new_names.append(name)\n",
    "```\n",
    "2. Förklara vad \"in\" gör i denna kod gör:\n",
    "```python\n",
    "names = [\"doctor\", \"teacher\", \"programmer\"]\n",
    "exists = True\n",
    "if \"programmer\" not in names:\n",
    "   exists = False\n",
    "```\n",
    "Lästips: [https://www.w3schools.com/python/ref_keyword_in.asp](https://www.w3schools.com/python/ref_keyword_in.asp)\n",
    "Lästips 2: [https://www.askpython.com/python/examples/in-and-not-in-operators-in-python](https://www.askpython.com/python/examples/in-and-not-in-operators-in-python)"
   ]
  },
  {
   "cell_type": "code",
   "execution_count": null,
   "metadata": {},
   "outputs": [],
   "source": [
    "# Svara här"
   ]
  },
  {
   "cell_type": "markdown",
   "metadata": {},
   "source": [
    "### **Uppgift 6**\n",
    "Kan jag anropa en funktion från en annan funktion?\n",
    "tex:\n",
    "```python\n",
    "def func_1():\n",
    "   print(\"in func 1\")\n",
    "\n",
    "def func_2():\n",
    "   func_1()\n",
    "   print(\"in func 12\")   \n",
    "```"
   ]
  },
  {
   "cell_type": "code",
   "execution_count": null,
   "metadata": {},
   "outputs": [],
   "source": [
    "# Skriv kod här"
   ]
  },
  {
   "cell_type": "markdown",
   "metadata": {},
   "source": [
    "### **Uppgift 7**\n",
    "\n",
    "Kan en funktion returnera mer än ett värde? Testa!\n",
    "Tex:\n",
    "```python\n",
    "def useless_function():\n",
    "    return 1,2\n",
    "\n",
    "result = useless_function()\n",
    "print(result)\n",
    "```\n",
    "\n",
    "2. Vad är typen som returneras?\n",
    "3. Visa hur du direkt kan tilldela de returnerade värdena\n"
   ]
  },
  {
   "cell_type": "code",
   "execution_count": 7,
   "metadata": {},
   "outputs": [],
   "source": [
    "# Skriv kod här \n",
    "def useless_function():\n",
    "    return 1,2\n",
    "\n",
    "result = useless_function()\n",
    "print(result)"
   ]
  },
  {
   "cell_type": "code",
   "execution_count": 2,
   "metadata": {},
   "outputs": [],
   "source": [
    "# 3\n",
    "def useless_function():\n",
    "    return 1,2\n",
    "\n",
    "first_return_value, second_return_value = useless_function() \n"
   ]
  },
  {
   "cell_type": "markdown",
   "metadata": {},
   "source": [
    "### **Uppgift 8 - Avancerad fråga**\n",
    "Vilka problem kan uppstå när du skickar in en lista som argument till en funktion?\n",
    "- Vilka datatyper är mutable, och vad innebär det?\n",
    "- Vilka datatyper är immutable, och vad innebär det?\n",
    "- Fundera på om listor är mutable eller immutable\n",
    "- Fundera på vad primitiva värden är, och hur de påverkas av funktioner\n"
   ]
  },
  {
   "cell_type": "code",
   "execution_count": null,
   "metadata": {},
   "outputs": [],
   "source": [
    "# Svara här"
   ]
  }
 ],
 "metadata": {
  "kernelspec": {
   "display_name": "venv",
   "language": "python",
   "name": "python3"
  },
  "language_info": {
   "codemirror_mode": {
    "name": "ipython",
    "version": 3
   },
   "file_extension": ".py",
   "mimetype": "text/x-python",
   "name": "python",
   "nbconvert_exporter": "python",
   "pygments_lexer": "ipython3",
   "version": "3.10.6"
  },
  "orig_nbformat": 4
 },
 "nbformat": 4,
 "nbformat_minor": 2
}
