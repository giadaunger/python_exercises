{
 "cells": [
  {
   "cell_type": "markdown",
   "id": "1c19e771",
   "metadata": {},
   "source": [
    "# Uppgifter flow control 2\n",
    "Du kan också göra uppgifter i automate the boring stuff kapitel 2, andra halvan.\n",
    "\n",
    "# Instruktioner\n",
    "DU SKA ALLTID FÖRSÖKA FÖRST INNAN DU KOLLAR FACIT!\n",
    "1. Läs frågan. Kolla boken, googla, kolla tutorialsidor\n",
    "2. Försök besvara frågan, testa kod, experimentera, kolla med kompis eller lärare\n",
    "3. Kolla facit\n",
    "\n"
   ]
  },
  {
   "cell_type": "markdown",
   "id": "bd230d43",
   "metadata": {},
   "source": [
    "## Loops \n",
    "\n"
   ]
  },
  {
   "cell_type": "markdown",
   "id": "d05c5623",
   "metadata": {},
   "source": [
    "### Uppgift 1.\n",
    "Skriv en while-loop som skriver ut talen från 1 till 10."
   ]
  },
  {
   "cell_type": "code",
   "execution_count": 2,
   "id": "99f1103b",
   "metadata": {},
   "outputs": [
    {
     "name": "stdout",
     "output_type": "stream",
     "text": [
      "1\n",
      "2\n",
      "3\n",
      "4\n",
      "5\n",
      "6\n",
      "7\n",
      "8\n",
      "9\n",
      "10\n"
     ]
    }
   ],
   "source": [
    "# Skriv kod här\n",
    "number_list = range(1, 11)\n",
    "\n",
    "for number in number_list:\n",
    "    print(number)\n"
   ]
  },
  {
   "cell_type": "markdown",
   "id": "bb3b2db0",
   "metadata": {},
   "source": [
    "### Uppgift 2.\n",
    "Skriv en for-loop som skriver ut varje bokstav i ordet \"Python\". Tänk på att en string är en \"iterable\", det betyder att vi kan iterera över den. På så vis liknar en string listor eller andra datastrukturer som grupperar data. Ett annat sätt att se strings på är att det är en lista av bokstäver, även om strings och listor fundamentalt är olika.\n",
    "\n"
   ]
  },
  {
   "cell_type": "code",
   "execution_count": 3,
   "id": "63ddafea",
   "metadata": {},
   "outputs": [
    {
     "name": "stdout",
     "output_type": "stream",
     "text": [
      "p\n",
      "y\n",
      "t\n",
      "h\n",
      "o\n",
      "n\n"
     ]
    }
   ],
   "source": [
    "# Skriv kod här\n",
    "word = \"python\"\n",
    "\n",
    "for letter in word:\n",
    "    print(letter)\n"
   ]
  },
  {
   "cell_type": "markdown",
   "id": "7efcf894",
   "metadata": {},
   "source": [
    "### Uppgift 3.\n",
    "Skriv en for-loop som summerar talen från 1 till 100 med hjälp av range()\n"
   ]
  },
  {
   "cell_type": "code",
   "execution_count": 4,
   "id": "edc67b41",
   "metadata": {},
   "outputs": [
    {
     "name": "stdout",
     "output_type": "stream",
     "text": [
      "0\n",
      "1\n",
      "3\n",
      "6\n",
      "10\n",
      "15\n",
      "21\n",
      "28\n",
      "36\n",
      "45\n",
      "55\n",
      "66\n",
      "78\n",
      "91\n",
      "105\n",
      "120\n",
      "136\n",
      "153\n",
      "171\n",
      "190\n",
      "210\n",
      "231\n",
      "253\n",
      "276\n",
      "300\n",
      "325\n",
      "351\n",
      "378\n",
      "406\n",
      "435\n",
      "465\n",
      "496\n",
      "528\n",
      "561\n",
      "595\n",
      "630\n",
      "666\n",
      "703\n",
      "741\n",
      "780\n",
      "820\n",
      "861\n",
      "903\n",
      "946\n",
      "990\n",
      "1035\n",
      "1081\n",
      "1128\n",
      "1176\n",
      "1225\n",
      "1275\n",
      "1326\n",
      "1378\n",
      "1431\n",
      "1485\n",
      "1540\n",
      "1596\n",
      "1653\n",
      "1711\n",
      "1770\n",
      "1830\n",
      "1891\n",
      "1953\n",
      "2016\n",
      "2080\n",
      "2145\n",
      "2211\n",
      "2278\n",
      "2346\n",
      "2415\n",
      "2485\n",
      "2556\n",
      "2628\n",
      "2701\n",
      "2775\n",
      "2850\n",
      "2926\n",
      "3003\n",
      "3081\n",
      "3160\n",
      "3240\n",
      "3321\n",
      "3403\n",
      "3486\n",
      "3570\n",
      "3655\n",
      "3741\n",
      "3828\n",
      "3916\n",
      "4005\n",
      "4095\n",
      "4186\n",
      "4278\n",
      "4371\n",
      "4465\n",
      "4560\n",
      "4656\n",
      "4753\n",
      "4851\n",
      "4950\n",
      "5050\n"
     ]
    }
   ],
   "source": [
    "counter = 0\n",
    "# Skriv kod här\n",
    "for i in range(0, 101):\n",
    "    counter += i\n",
    "    print(counter)"
   ]
  },
  {
   "cell_type": "markdown",
   "id": "d9ac046d",
   "metadata": {},
   "source": [
    "### Uppgift 4.\n",
    "Skriv en for-loop som räknar antalet bokstäver i en string som användaren får välja. Räkna sedan hur många svenska bokstäver som förekommer, dvs. \"å, ä, ö\".\n",
    "Du kommer behöva att kombinera loopen med en if-statement."
   ]
  },
  {
   "cell_type": "code",
   "execution_count": 13,
   "id": "03026445",
   "metadata": {},
   "outputs": [
    {
     "name": "stdout",
     "output_type": "stream",
     "text": [
      "å\n",
      "ö\n",
      "2\n"
     ]
    }
   ],
   "source": [
    "user_string = input(\"Choose a string\")\n",
    "count = 0\n",
    "# Skriv kod här\n",
    "\n",
    "for letter in user_string:\n",
    "    if letter == \"ä\" or letter == \"å\" or letter == \"ö\":\n",
    "        count += 1\n",
    "\n",
    "print(count)"
   ]
  },
  {
   "cell_type": "markdown",
   "id": "30292d3a",
   "metadata": {},
   "source": [
    "### Uppgift 5. (Loops med enumerate)\n",
    "\n",
    "Här är ett exempel på ett program som loopar över en lista och printar ut positionen för varje element.\n",
    "\n",
    "```python\n",
    "animals = [\"zebra\", \"hund\", \"katt\", \"häst\"]\n",
    "# Enumerate ger oss alltid elementet OCH indexet (positionen)\n",
    "for index, animal in enumerate(animals):\n",
    "   print(index)\n",
    "```\n",
    "1. Skriv ett program som använder en loop och enumerate() för att hitta positionen för ett visst element i en lista. Fråga användaren efter ett element, tex. \"a\" och printa sedan ut vilken position det är.\n",
    "2. Avbryt programmet loopen om den hittar elementet med hjälp av break-keywordet\n"
   ]
  },
  {
   "cell_type": "code",
   "execution_count": 15,
   "id": "0e31354b",
   "metadata": {},
   "outputs": [
    {
     "name": "stdout",
     "output_type": "stream",
     "text": [
      "[(0, 'zebra'), (1, 'hund'), (2, 'katt'), (3, 'häst')]\n"
     ]
    }
   ],
   "source": [
    "# Skriv kod här\n",
    "animals = [\"zebra\", \"hund\", \"katt\", \"häst\"]\n",
    "print(list(enumerate(animals)))\n"
   ]
  },
  {
   "cell_type": "markdown",
   "id": "94342031",
   "metadata": {},
   "source": [
    "### **Uppgift 6.**\n",
    "Vad är skillnaden mellan while och for? Varför skulle jag vilja använda en forloop när jag oftast kan göra samma sak med en whileloop?\n",
    "\n"
   ]
  },
  {
   "cell_type": "code",
   "execution_count": null,
   "id": "94342031",
   "metadata": {},
   "outputs": [],
   "source": [
    "# Med Python kan du använda while loopar för att köra samma uppgift flera gånger och for loopar för att \n",
    "# loopa en gång över listdata"
   ]
  },
  {
   "cell_type": "markdown",
   "id": "167397f7",
   "metadata": {},
   "source": [
    "### **Uppgift 7.**\n",
    "Ponera att du har en lista med 10000 string-elements i sig (tex. addresser). Du inser att det inte är nödvändigt att behålla addresser med ordet \"Katrineholm\" i sig och du bestämmer dig för att skriva denna kod:\n",
    "```python\n",
    "addresses = [\"Sultangatan 15, Katrineholm\", \"Hotellgatan 12, Stockholm\"]\n",
    "\n",
    "for index, address in enumerate(addresses):\n",
    "   if \"Katrineholm\" in address:\n",
    "       addresses.pop(index) # remove the item using its index\n",
    "\n",
    "```\n",
    "\n",
    "Funkar detta eller är det problematiskt?\n"
   ]
  },
  {
   "cell_type": "markdown",
   "metadata": {},
   "source": [
    "\n",
    "```\n",
    "\n",
    "Funkar detta eller är det problematiskt?\n"
   ]
  },
  {
   "cell_type": "markdown",
   "metadata": {},
   "source": [
    "addresses = [\"Sultangatan 15, Katrineholm\", \"Hotellgatan 12, Stockholm\"]\n",
    "\n",
    "for index, address in enumerate(addresses):\n",
    "   if \"Katrineholm\" in address:\n",
    "       addresses.pop(index) # remove the item using its index\n",
    "\n",
    "```\n",
    "\n",
    "Funkar detta eller är det problematiskt?\n"
   ]
  },
  {
   "cell_type": "code",
   "execution_count": null,
   "id": "da4c6dd8",
   "metadata": {},
   "outputs": [],
   "source": [
    "# Svara / Skriv kod här\n",
    "# Man ska aldrig ta bort eller lägga till datastrukturer som man loopar över"
   ]
  },
  {
   "cell_type": "markdown",
   "id": "5cfa11e4",
   "metadata": {},
   "source": [
    "## Listor\n",
    "\n"
   ]
  },
  {
   "cell_type": "markdown",
   "id": "469bc079",
   "metadata": {},
   "source": [
    "### **Uppgift 8.**\n",
    "1. Hur skapar du en lista?\n",
    "2. Varför behöver vi listor? \n",
    "3. Vad är ett index? Svara med kod och ord.\n",
    "4. Vad är ett element? Svara med kod och ord.\n",
    "5. Kan vi stoppa vilka typer som helst i en lista? Pröva!"
   ]
  },
  {
   "cell_type": "code",
   "execution_count": 18,
   "metadata": {},
   "outputs": [
    {
     "name": "stdout",
     "output_type": "stream",
     "text": [
      "['E', 'n', ' ', 'l', 'i', 's', 't', 'a', ' ', 'a', 'v', ' ', 'b', 'o', 'k', 's', 't', 'ä', 'v', 'e', 'r']\n"
     ]
    }
   ],
   "source": [
    "# 1: Svara här\n",
    "first_list = []\n",
    "second_list = list(\"En lista av bokstäver\")"
   ]
  },
  {
   "cell_type": "code",
   "execution_count": null,
   "metadata": {},
   "outputs": [],
   "source": [
    "# 2: Svara här\n",
    "# Listor används för att lagra flera objekt i en enda variabel. Listor är en av fyra inbyggda datatyper \n",
    "# i Python som används för att lagra datasamlingar"
   ]
  },
  {
   "cell_type": "code",
   "execution_count": 20,
   "id": "d10f4ee3",
   "metadata": {},
   "outputs": [
    {
     "name": "stdout",
     "output_type": "stream",
     "text": [
      "Stockhol\n",
      "Barcelona\n"
     ]
    }
   ],
   "source": [
    "# 3: Svara med kod här\n",
    "# Index == elementets position\n",
    "\n",
    "citys = [\"Stockhol\", \"London\", \"Milano\", \"Barcelona\"]\n",
    "print(citys[0]) # Printar ut första elementet i lista, dvs elementet med index 0\n",
    "print(citys[-1]) # Printar ut sista elementet i lista, dvs elementet med index -1"
   ]
  },
  {
   "cell_type": "code",
   "execution_count": 21,
   "id": "c8a73686",
   "metadata": {},
   "outputs": [
    {
     "name": "stdout",
     "output_type": "stream",
     "text": [
      "Stockhol\n",
      "London\n",
      "Milano\n",
      "Barcelona\n"
     ]
    }
   ],
   "source": [
    "# 4: Svara med kod här\n",
    "# Element == \"sakerna\" i en lista\n",
    "\n",
    "citys = [\"Stockhol\", \"London\", \"Milano\", \"Barcelona\"]\n",
    "for city in citys:\n",
    "    print(city) # Printar ut alla element en efter en i en lista\n"
   ]
  },
  {
   "cell_type": "code",
   "execution_count": 22,
   "id": "d1bc7ebd",
   "metadata": {},
   "outputs": [
    {
     "name": "stdout",
     "output_type": "stream",
     "text": [
      "['Alberto', 16, 63, True]\n"
     ]
    }
   ],
   "source": [
    "# 5: Svara med kod här\n",
    "# Ja det kan man\n",
    "\n",
    "student = [\"Alberto\", 16, 63, True]\n",
    "print(student)"
   ]
  },
  {
   "cell_type": "markdown",
   "id": "b518d499",
   "metadata": {},
   "source": [
    "### **Uppgift 9.**\n",
    "Du har listan \n",
    "```python\n",
    "numbers = [1,2,3,4,5]\n",
    "```\n",
    "\n",
    "1.  Hur printar du ut första elementet i listan? Svara med kod.\n",
    "\n",
    "2. Hur printar du ut sista elementet? Tips: Du kan använda len()-funktionen eller ett annat sätt som är mer typiskt för python. Svara med kod.\n",
    "\n",
    "3. Jag vill lägga till ett element på slutet av listan, hur gör jag? Svara med kod.\n",
    "\n",
    "4. Jag ångrar mig! Jag vill nu ta bort det sista elementet. Svara med kod.\n",
    "\n",
    "5. Ta bort elementet på index 2. Svara med kod\n",
    "\n",
    "Du nu istället  listan \n",
    "```python\n",
    "names = [\"tobias\",\"martin\",\"anna\",\"li\", \"martin\"]\n",
    "```\n",
    "6. Låtsas som att du inte har någon aning om vilka element som finns i listan, du vet alltså inte vilken plats (index) exempelvis namnet \"martin\" ligger på. Hur tar du bort \"martin\" från listan?\n",
    "\n",
    "Du nu istället  listan \n",
    "```python\n",
    "names = [\"tobias\",\"martin\",\"anna\",\"li\", \"martin\"]\n",
    "```\n",
    "Nu finns det 2 st martin. Funkar det att endast köra remove?\n",
    "\n",
    "Tips för att läsa mer om listor:\n",
    "\n",
    "- [https://docs.python.org/3/tutorial/datastructures.html](https://docs.python.org/3/tutorial/datastructures.html)\n",
    "- [https://www.w3schools.com/python/python_lists.asp](https://www.w3schools.com/python/python_lists.asp)\n",
    "\n",
    "\n",
    "\n"
   ]
  },
  {
   "cell_type": "code",
   "execution_count": 24,
   "metadata": {},
   "outputs": [
    {
     "name": "stdout",
     "output_type": "stream",
     "text": [
      "1\n"
     ]
    }
   ],
   "source": [
    "# 1: Svara här\n",
    "numbers = [1, 2, 3, 4, 5]\n",
    "print(numbers[0])"
   ]
  },
  {
   "cell_type": "code",
   "execution_count": 26,
   "metadata": {},
   "outputs": [
    {
     "name": "stdout",
     "output_type": "stream",
     "text": [
      "5\n",
      "5\n"
     ]
    }
   ],
   "source": [
    "# 2: Svara här\n",
    "numbers = [1, 2, 3, 4, 5]\n",
    "print(len(numbers))\n",
    "print(numbers[-1])"
   ]
  },
  {
   "cell_type": "code",
   "execution_count": 33,
   "metadata": {},
   "outputs": [
    {
     "name": "stdout",
     "output_type": "stream",
     "text": [
      "['Stockhol', 'London', 'Milano', 'Barcelona', 'Istanbul']\n"
     ]
    }
   ],
   "source": [
    "# 3: Svara här\n",
    "citys = [\"Stockhol\", \"London\", \"Milano\", \"Barcelona\"]\n",
    "citys.append(\"Istanbul\")\n",
    "print(citys)"
   ]
  },
  {
   "cell_type": "code",
   "execution_count": 38,
   "metadata": {},
   "outputs": [
    {
     "name": "stdout",
     "output_type": "stream",
     "text": [
      "['Stockhol', 'London', 'Milano', 'Barcelona']\n"
     ]
    }
   ],
   "source": [
    "# 4: Svara här\n",
    "citys = [\"Stockhol\", \"London\", \"Milano\", \"Barcelona\", \"Istanbul\"]\n",
    "citys.pop()\n",
    "print(citys)"
   ]
  },
  {
   "cell_type": "code",
   "execution_count": 40,
   "metadata": {},
   "outputs": [
    {
     "name": "stdout",
     "output_type": "stream",
     "text": [
      "['Stockhol', 'London', 'Barcelona', 'Istanbul']\n"
     ]
    }
   ],
   "source": [
    "# 5: Svara här\n",
    "citys = [\"Stockhol\", \"London\", \"Milano\", \"Barcelona\", \"Istanbul\"]\n",
    "citys.pop(2)\n",
    "print(citys)"
   ]
  },
  {
   "cell_type": "code",
   "execution_count": 41,
   "metadata": {},
   "outputs": [
    {
     "name": "stdout",
     "output_type": "stream",
     "text": [
      "['tobias', 'anna', 'li', 'martin']\n"
     ]
    }
   ],
   "source": [
    "# 6: Svara här\n",
    "names = [\"tobias\",\"martin\",\"anna\",\"li\", \"martin\"]\n",
    "names.remove(\"martin\")\n",
    "print(names)"
   ]
  },
  {
   "cell_type": "markdown",
   "id": "4a1019c8",
   "metadata": {},
   "source": [
    "### **Uppgift 10.**\n",
    "\n",
    "Ge ett exempel med helst kod och ord hur du kan använda break-keywordet och continue-keywordet inom loopar.\n",
    "\n"
   ]
  },
  {
   "cell_type": "code",
   "execution_count": 42,
   "id": "4a1019c8",
   "metadata": {},
   "outputs": [
    {
     "name": "stdout",
     "output_type": "stream",
     "text": [
      "0\n",
      "1\n",
      "2\n",
      "3\n"
     ]
    }
   ],
   "source": [
    "# Break: Anta att du vill avsluta en loop och hoppa till nästa kod efter loopen; paus hjälper dig \n",
    "# att göra det.\n",
    "\n",
    "for i in range(9):\n",
    "  if i > 3:\n",
    "    break\n",
    "  print(i)"
   ]
  },
  {
   "cell_type": "code",
   "execution_count": 43,
   "metadata": {},
   "outputs": [
    {
     "name": "stdout",
     "output_type": "stream",
     "text": [
      "0\n",
      "1\n",
      "2\n",
      "4\n",
      "5\n",
      "6\n",
      "7\n",
      "8\n"
     ]
    }
   ],
   "source": [
    "# Continue: används för att avsluta den aktuella iterationen i en for-loop (eller en while-loop), och \n",
    "# fortsätter till nästa iteration.\n",
    "\n",
    "for i in range(9):\n",
    "  if i == 3:\n",
    "    continue\n",
    "  print(i)"
   ]
  },
  {
   "cell_type": "markdown",
   "id": "ed485e6e",
   "metadata": {},
   "source": [
    "### Uppgift 11.\n",
    "Du har en lista av listor med nummer. Din uppgift är att skriva en kod som går igenom varje tal i varje lista. Om talet är jämnt ska du lägga till det i en ny lista. Denna uppgift bygger på att du ska arbeta med \"nestade\" listor. Det är väldigt ofta vi kan behöva loopa igenom en datastruktur, sedan loopa igenom varje element (för elementen är också listor!)."
   ]
  },
  {
   "cell_type": "code",
   "execution_count": 51,
   "id": "ed485e6e",
   "metadata": {},
   "outputs": [
    {
     "ename": "TypeError",
     "evalue": "'int' object is not iterable",
     "output_type": "error",
     "traceback": [
      "\u001b[0;31m---------------------------------------------------------------------------\u001b[0m",
      "\u001b[0;31mTypeError\u001b[0m                                 Traceback (most recent call last)",
      "Cell \u001b[0;32mIn[51], line 6\u001b[0m\n\u001b[1;32m      4\u001b[0m \u001b[38;5;66;03m# Lägg till din kod här - \u001b[39;00m\n\u001b[1;32m      5\u001b[0m \u001b[38;5;28;01mfor\u001b[39;00m sub_list \u001b[38;5;129;01min\u001b[39;00m number_list:\n\u001b[0;32m----> 6\u001b[0m     \u001b[38;5;28;01mfor\u001b[39;00m num \u001b[38;5;129;01min\u001b[39;00m sub_list:\n\u001b[1;32m      7\u001b[0m         \u001b[38;5;28;01mif\u001b[39;00m num \u001b[38;5;241m%\u001b[39m \u001b[38;5;241m2\u001b[39m \u001b[38;5;241m==\u001b[39m \u001b[38;5;241m0\u001b[39m:\n\u001b[1;32m      8\u001b[0m             even_numbers\u001b[38;5;241m.\u001b[39mappend(num)\n",
      "\u001b[0;31mTypeError\u001b[0m: 'int' object is not iterable"
     ]
    }
   ],
   "source": [
    "even_numbers = []\n",
    "num_lists = [[1, 2, 3], [4, 5, 6], [7, 8, 9], [10, 11, 12]]\n",
    "\n",
    "# Lägg till din kod här - \n",
    "for sub_list in number_list:\n",
    "    for num in sub_list:\n",
    "        if num % 2 == 0:\n",
    "            even_numbers.append(num)\n",
    "    \n",
    "print(even_numbers)"
   ]
  },
  {
   "cell_type": "markdown",
   "id": "b5f01ca8",
   "metadata": {},
   "source": [
    "### **Uppgift 12.**\n",
    "\n",
    "Nu ska du få öva på att jobba med slices. En slice är ett sätt att kopiera en lista där du kan specificera vilka element som ska inkluderas. Du vet att det är en slice så fort du upptäcker kolon i en lista, tex. [:], [0:5], [0:5:1] osv!\n",
    "\n",
    "1. Vad gör denna kod?\n",
    "```python\n",
    "data = [\"tobias\", \"marcus\", 1, 5.0]\n",
    "l = data[2:]\n",
    "```\n",
    "2. Vad gör denna kod?\n",
    "```python\n",
    "data = [\"tobias\", \"marcus\", 1, 5.0]\n",
    "l = data[:5]\n",
    "```\n",
    "3. Vad gör denna kod? Vad betyder minussiffran?\n",
    "```python\n",
    "data = [\"tobias\", \"marcus\", 1, 5.0]\n",
    "l = data[::-1]\n",
    "```\n",
    "Tips: [https://www.w3schools.com/python/ref_func_slice.asp](https://www.w3schools.com/python/ref_func_slice.asp)\n",
    "\n"
   ]
  },
  {
   "cell_type": "code",
   "execution_count": null,
   "id": "3fe23908",
   "metadata": {},
   "outputs": [],
   "source": [
    "# Skriv kod här / Svara\n",
    "1. Skapar en ny lista l som innehåller element från listan data börjande från index 2 till slutet av listan. \n",
    "l kommer att vara [1, 5.0].\n",
    "\n",
    "2. Skapar en ny lista l som innehåller de första 5 elementen från listan data. Eftersom data bara har 4 \n",
    "element, kommer l att vara en kopia av data, dvs. [\"tobias\", \"marcus\", 1, 5.0].\n",
    "\n",
    "3. Skapar en ny lista l som innehåller alla element från listan data i omvänd ordning. Minussiffran i \n",
    "slice-notationen indikerar att vi går igenom listan bakifrån. l kommer att vara [5.0, 1, \"marcus\", \"tobias\"]."
   ]
  },
  {
   "cell_type": "markdown",
   "id": "dd17f724",
   "metadata": {},
   "source": [
    "### **Uppgift 13**\n",
    "\n",
    "1. Förklara vad \"in\" gör i denna kod gör. Keywordet används två gånger,vad är skillnaden på dessa två användningsområden?:\n",
    "```python\n",
    "names = [\"tobias\", \"andreas\", \"tove\"]\n",
    "new_names = []\n",
    "for name in names:\n",
    "   if \"to\" in name:\n",
    "      new_names.append(name)\n",
    "```\n",
    "2. Förklara vad \"in\" gör i denna kod gör:\n",
    "```python\n",
    "names = [\"doctor\", \"teacher\", \"programmer\"]\n",
    "exists = True\n",
    "if \"programmer\" not in names:\n",
    "   exists = False\n",
    "```\n",
    "Lästips: [https://www.w3schools.com/python/ref_keyword_in.asp](https://www.w3schools.com/python/ref_keyword_in.asp)\n",
    "Lästips 2: [https://www.askpython.com/python/examples/in-and-not-in-operators-in-python](https://www.askpython.com/python/examples/in-and-not-in-operators-in-python)"
   ]
  }
 ],
 "metadata": {
  "interpreter": {
   "hash": "aee8b7b246df8f9039afb4144a1f6fd8d2ca17a180786b69acc140d282b71a49"
  },
  "kernelspec": {
   "display_name": "Python 3.11.5 64-bit",
   "name": "python3"
  },
  "language_info": {
   "codemirror_mode": {
    "name": "ipython",
    "version": 3
   },
   "file_extension": ".py",
   "mimetype": "text/x-python",
   "name": "python",
   "nbconvert_exporter": "python",
   "pygments_lexer": "ipython3",
   "version": "3.11.5"
  }
 },
 "nbformat": 4,
 "nbformat_minor": 5
}
