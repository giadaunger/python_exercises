{
 "cells": [
  {
   "cell_type": "markdown",
   "id": "1c19e771",
   "metadata": {},
   "source": [
    "# Uppgifter flow control 2\n",
    "Du kan också göra uppgifter i automate the boring stuff kapitel 2, andra halvan.\n",
    "\n",
    "# Instruktioner\n",
    "DU SKA ALLTID FÖRSÖKA FÖRST INNAN DU KOLLAR FACIT!\n",
    "1. Läs frågan. Kolla boken, googla, kolla tutorialsidor\n",
    "2. Försök besvara frågan, testa kod, experimentera, kolla med kompis eller lärare\n",
    "3. Kolla facit\n",
    "\n"
   ]
  },
  {
   "cell_type": "markdown",
   "id": "bd230d43",
   "metadata": {},
   "source": [
    "## Loops \n",
    "\n"
   ]
  },
  {
   "cell_type": "markdown",
   "id": "d05c5623",
   "metadata": {},
   "source": [
    "### Uppgift 1.\n",
    "Skriv en while-loop som skriver ut talen från 1 till 10."
   ]
  },
  {
   "cell_type": "code",
   "execution_count": null,
   "id": "99f1103b",
   "metadata": {},
   "outputs": [],
   "source": [
    "# Skriv kod här\n"
   ]
  },
  {
   "cell_type": "markdown",
   "id": "bb3b2db0",
   "metadata": {},
   "source": [
    "### Uppgift 2.\n",
    "Skriv en for-loop som skriver ut varje bokstav i ordet \"Python\". Tänk på att en string är en \"iterable\", det betyder att vi kan iterera över den. På så vis liknar en string listor eller andra datastrukturer som grupperar data. Ett annat sätt att se strings på är att det är en lista av bokstäver, även om strings och listor fundamentalt är olika.\n",
    "\n"
   ]
  },
  {
   "cell_type": "code",
   "execution_count": null,
   "id": "63ddafea",
   "metadata": {},
   "outputs": [],
   "source": [
    "# Skriv kod här\n"
   ]
  },
  {
   "cell_type": "markdown",
   "id": "7efcf894",
   "metadata": {},
   "source": [
    "### Uppgift 3.\n",
    "Skriv en for-loop som summerar talen från 1 till 100 med hjälp av range()\n"
   ]
  },
  {
   "cell_type": "code",
   "execution_count": null,
   "id": "edc67b41",
   "metadata": {},
   "outputs": [],
   "source": [
    "counter = 0\n",
    "# Skriv kod här"
   ]
  },
  {
   "cell_type": "markdown",
   "id": "d9ac046d",
   "metadata": {},
   "source": [
    "### Uppgift 4.\n",
    "Skriv en for-loop som räknar antalet bokstäver i en string som användaren får välja. Räkna sedan hur många svenska bokstäver som förekommer, dvs. \"å, ä, ö\".\n",
    "Du kommer behöva att kombinera loopen med en if-statement."
   ]
  },
  {
   "cell_type": "code",
   "execution_count": null,
   "id": "03026445",
   "metadata": {},
   "outputs": [],
   "source": [
    "user_string = input(\"Choose a string\")\n",
    "count = 0\n",
    "# Skriv kod här\n",
    "\n",
    "print(count)"
   ]
  },
  {
   "cell_type": "markdown",
   "id": "30292d3a",
   "metadata": {},
   "source": [
    "### Uppgift 5. (Loops med enumerate)\n",
    "\n",
    "Här är ett exempel på ett program som loopar över en lista och printar ut positionen för varje element.\n",
    "\n",
    "```python\n",
    "animals = [\"zebra\", \"hund\", \"katt\", \"häst\"]\n",
    "# Enumerate ger oss alltid elementet OCH indexet (positionen)\n",
    "for index, animal in enumerate(animals):\n",
    "   print(index)\n",
    "```\n",
    "1. Skriv ett program som använder en loop och enumerate() för att hitta positionen för ett visst element i en lista. Fråga användaren efter ett element, tex. \"a\" och printa sedan ut vilken position det är.\n",
    "2. Avbryt programmet loopen om den hittar elementet med hjälp av break-keywordet\n"
   ]
  },
  {
   "cell_type": "code",
   "execution_count": null,
   "id": "0e31354b",
   "metadata": {},
   "outputs": [],
   "source": [
    "# Skriv kod här"
   ]
  },
  {
   "cell_type": "markdown",
   "id": "94342031",
   "metadata": {},
   "source": [
    "### **Uppgift 6.**\n",
    "Vad är skillnaden mellan while och for? Varför skulle jag vilja använda en forloop när jag oftast kan göra samma sak med en whileloop?\n",
    "\n"
   ]
  },
  {
   "cell_type": "code",
   "execution_count": null,
   "id": "94342031",
   "metadata": {},
   "outputs": [],
   "source": []
  },
  {
   "cell_type": "markdown",
   "id": "167397f7",
   "metadata": {},
   "source": [
    "### **Uppgift 7.**\n",
    "Ponera att du har en lista med 10000 string-elements i sig (tex. addresser). Du inser att det inte är nödvändigt att behålla addresser med ordet \"Katrineholm\" i sig och du bestämmer dig för att skriva denna kod:\n",
    "```python\n",
    "addresses = [\"Sultangatan 15, Katrineholm\", \"Hotellgatan 12, Stockholm\"]\n",
    "\n",
    "for index, address in enumerate(addresses):\n",
    "   if \"Katrineholm\" in address:\n",
    "       addresses.pop(index) # remove the item using its index\n",
    "\n",
    "```\n",
    "\n",
    "Funkar detta eller är det problematiskt?\n"
   ]
  },
  {
   "cell_type": "code",
   "execution_count": null,
   "id": "da4c6dd8",
   "metadata": {},
   "outputs": [],
   "source": [
    "# Svara / Skriv kod här"
   ]
  },
  {
   "cell_type": "markdown",
   "id": "5cfa11e4",
   "metadata": {},
   "source": [
    "## Listor\n",
    "\n"
   ]
  },
  {
   "cell_type": "markdown",
   "id": "469bc079",
   "metadata": {},
   "source": [
    "### **Uppgift 8.**\n",
    "1. Hur skapar du en lista?\n",
    "2. Varför behöver vi listor? \n",
    "3. Vad är ett index? Svara med kod och ord.\n",
    "4. Vad är ett element? Svara med kod och ord.\n",
    "5. Kan vi stoppa vilka typer som helst i en lista? Pröva!"
   ]
  },
  {
   "cell_type": "code",
   "execution_count": null,
   "id": "d10f4ee3",
   "metadata": {},
   "outputs": [],
   "source": [
    "# 3: Svara med kod här"
   ]
  },
  {
   "cell_type": "code",
   "execution_count": null,
   "id": "c8a73686",
   "metadata": {},
   "outputs": [],
   "source": [
    "# 4: Svara med kod här"
   ]
  },
  {
   "cell_type": "code",
   "execution_count": null,
   "id": "d1bc7ebd",
   "metadata": {},
   "outputs": [],
   "source": [
    "# 5: Svara med kod här"
   ]
  },
  {
   "cell_type": "markdown",
   "id": "b518d499",
   "metadata": {},
   "source": [
    "### **Uppgift 9.**\n",
    "Du har listan \n",
    "```python\n",
    "numbers = [1,2,3,4,5]\n",
    "```\n",
    "\n",
    "1.  Hur printar du ut första elementet i listan? Svara med kod.\n",
    "\n",
    "2. Hur printar du ut sista elementet? Tips: Du kan använda len()-funktionen eller ett annat sätt som är mer typiskt för python. Svara med kod.\n",
    "\n",
    "3. Jag vill lägga till ett element på slutet av listan, hur gör jag? Svara med kod.\n",
    "\n",
    "4. Jag ångrar mig! Jag vill nu ta bort det sista elementet. Svara med kod.\n",
    "\n",
    "5. Ta bort elementet på index 2. Svara med kod\n",
    "\n",
    "Du nu istället  listan \n",
    "```python\n",
    "names = [\"tobias\",\"martin\",\"anna\",\"li\", \"martin\"]\n",
    "```\n",
    "6. Låtsas som att du inte har någon aning om vilka element som finns i listan, du vet alltså inte vilken plats (index) exempelvis namnet \"martin\" ligger på. Hur tar du bort \"martin\" från listan?\n",
    "\n",
    "Du nu istället  listan \n",
    "```python\n",
    "names = [\"tobias\",\"martin\",\"anna\",\"li\", \"martin\"]\n",
    "```\n",
    "Nu finns det 2 st martin. Funkar det att endast köra remove?\n",
    "\n",
    "Tips för att läsa mer om listor:\n",
    "\n",
    "- [https://docs.python.org/3/tutorial/datastructures.html](https://docs.python.org/3/tutorial/datastructures.html)\n",
    "- [https://www.w3schools.com/python/python_lists.asp](https://www.w3schools.com/python/python_lists.asp)\n",
    "\n",
    "\n",
    "\n"
   ]
  },
  {
   "cell_type": "markdown",
   "id": "4a1019c8",
   "metadata": {},
   "source": [
    "### **Uppgift 10.**\n",
    "\n",
    "Ge ett exempel med helst kod och ord hur du kan använda break-keywordet och continue-keywordet inom loopar.\n",
    "\n"
   ]
  },
  {
   "cell_type": "code",
   "execution_count": null,
   "id": "4a1019c8",
   "metadata": {},
   "outputs": [],
   "source": []
  },
  {
   "cell_type": "markdown",
   "id": "ed485e6e",
   "metadata": {},
   "source": [
    "### Uppgift 11.\n",
    "Du har en lista av listor med nummer. Din uppgift är att skriva en kod som går igenom varje tal i varje lista. Om talet är jämnt ska du lägga till det i en ny lista. Denna uppgift bygger på att du ska arbeta med \"nestade\" listor. Det är väldigt ofta vi kan behöva loopa igenom en datastruktur, sedan loopa igenom varje element (för elementen är också listor!)."
   ]
  },
  {
   "cell_type": "code",
   "execution_count": null,
   "id": "ed485e6e",
   "metadata": {},
   "outputs": [],
   "source": [
    "even_numbers = []\n",
    "num_lists = [[1, 2, 3], [4, 5, 6], [7, 8, 9], [10, 11, 12]]\n",
    "\n",
    "# Lägg till din kod här - \n"
   ]
  },
  {
   "cell_type": "markdown",
   "id": "b5f01ca8",
   "metadata": {},
   "source": [
    "### **Uppgift 12.**\n",
    "\n",
    "Nu ska du få öva på att jobba med slices. En slice är ett sätt att kopiera en lista där du kan specificera vilka element som ska inkluderas. Du vet att det är en slice så fort du upptäcker kolon i en lista, tex. [:], [0:5], [0:5:1] osv!\n",
    "\n",
    "1. Vad gör denna kod?\n",
    "```python\n",
    "data = [\"tobias\", \"marcus\", 1, 5.0]\n",
    "l = data[2:]\n",
    "```\n",
    "2. Vad gör denna kod?\n",
    "```python\n",
    "data = [\"tobias\", \"marcus\", 1, 5.0]\n",
    "l = data[:5]\n",
    "```\n",
    "3. Vad gör denna kod? Vad betyder minussiffran?\n",
    "```python\n",
    "data = [\"tobias\", \"marcus\", 1, 5.0]\n",
    "l = data[::-1]\n",
    "```\n",
    "Tips: [https://www.w3schools.com/python/ref_func_slice.asp](https://www.w3schools.com/python/ref_func_slice.asp)\n",
    "\n"
   ]
  },
  {
   "cell_type": "code",
   "execution_count": null,
   "id": "3fe23908",
   "metadata": {},
   "outputs": [],
   "source": [
    "# Skriv kod här / Svara"
   ]
  },
  {
   "cell_type": "markdown",
   "id": "dd17f724",
   "metadata": {},
   "source": [
    "### **Uppgift 13**\n",
    "\n",
    "1. Förklara vad \"in\" gör i denna kod gör. Keywordet används två gånger,vad är skillnaden på dessa två användningsområden?:\n",
    "```python\n",
    "names = [\"tobias\", \"andreas\", \"tove\"]\n",
    "new_names = []\n",
    "for name in names:\n",
    "   if \"to\" in name:\n",
    "      new_names.append(name)\n",
    "```\n",
    "2. Förklara vad \"in\" gör i denna kod gör:\n",
    "```python\n",
    "names = [\"doctor\", \"teacher\", \"programmer\"]\n",
    "exists = True\n",
    "if \"programmer\" not in names:\n",
    "   exists = False\n",
    "```\n",
    "Lästips: [https://www.w3schools.com/python/ref_keyword_in.asp](https://www.w3schools.com/python/ref_keyword_in.asp)\n",
    "Lästips 2: [https://www.askpython.com/python/examples/in-and-not-in-operators-in-python](https://www.askpython.com/python/examples/in-and-not-in-operators-in-python)"
   ]
  }
 ],
 "metadata": {
  "kernelspec": {
   "display_name": "venv",
   "language": "python",
   "name": "python3"
  },
  "language_info": {
   "name": "python",
   "version": "3.10.6"
  }
 },
 "nbformat": 4,
 "nbformat_minor": 5
}
