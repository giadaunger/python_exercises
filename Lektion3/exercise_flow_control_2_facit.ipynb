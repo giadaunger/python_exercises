{
 "cells": [
  {
   "cell_type": "markdown",
   "id": "1c19e771",
   "metadata": {},
   "source": [
    "# Uppgifter flow control 2 - FACIT\n",
    "Du kan också göra uppgifter i automate the boring stuff kapitel 2, andra halvan.\n",
    "\n",
    "# Instruktioner\n",
    "DU SKA ALLTID FÖRSÖKA FÖRST INNAN DU KOLLAR FACIT!\n",
    "1. Läs frågan. Kolla boken, googla, kolla tutorialsidor\n",
    "2. Försök besvara frågan, testa kod, experimentera, kolla med kompis eller lärare\n",
    "3. Kolla facit\n",
    "\n"
   ]
  },
  {
   "cell_type": "markdown",
   "id": "bd230d43",
   "metadata": {},
   "source": [
    "## Loops \n",
    "\n"
   ]
  },
  {
   "cell_type": "markdown",
   "id": "d05c5623",
   "metadata": {},
   "source": [
    "### Uppgift 1.\n",
    "Skriv en while-loop som skriver ut talen från 1 till 10."
   ]
  },
  {
   "cell_type": "code",
   "execution_count": null,
   "id": "99f1103b",
   "metadata": {},
   "outputs": [],
   "source": [
    "# Skriv kod här\n"
   ]
  },
  {
   "cell_type": "markdown",
   "id": "74de11a2",
   "metadata": {},
   "source": [
    "### Facit\n",
    "\n",
    "```python\n",
    "i = 1\n",
    "while i <= 10:\n",
    "    print(i)\n",
    "    i += 1\n",
    "```\n",
    "\n"
   ]
  },
  {
   "cell_type": "markdown",
   "id": "bb3b2db0",
   "metadata": {},
   "source": [
    "### Uppgift 2.\n",
    "Skriv en for-loop som skriver ut varje bokstav i ordet \"Python\". Tänk på att en string är en \"iterable\", det betyder att vi kan iterera över den. På så vis liknar en string listor eller andra datastrukturer som grupperar data. Ett annat sätt att se strings på är att det är en lista av bokstäver, även om strings och listor fundamentalt är olika.\n",
    "\n"
   ]
  },
  {
   "cell_type": "code",
   "execution_count": null,
   "id": "63ddafea",
   "metadata": {},
   "outputs": [],
   "source": [
    "# Skriv kod här\n"
   ]
  },
  {
   "cell_type": "markdown",
   "id": "c77b6b05",
   "metadata": {},
   "source": [
    "### **Facit**"
   ]
  },
  {
   "cell_type": "markdown",
   "id": "c094baac",
   "metadata": {},
   "source": [
    "\n",
    "```python\n",
    "for letter in \"Python\":\n",
    "    print(letter)\n",
    "```\n",
    "\n"
   ]
  },
  {
   "cell_type": "markdown",
   "id": "7efcf894",
   "metadata": {},
   "source": [
    "### Uppgift 3.\n",
    "Skriv en for-loop som summerar talen från 1 till 100 med hjälp av range()\n"
   ]
  },
  {
   "cell_type": "code",
   "execution_count": null,
   "id": "edc67b41",
   "metadata": {},
   "outputs": [],
   "source": [
    "counter = 0\n",
    "# Skriv kod här"
   ]
  },
  {
   "cell_type": "markdown",
   "id": "9e5ed997",
   "metadata": {},
   "source": [
    "### **Facit**\n",
    "\n",
    "```python\n",
    "sum = 0\n",
    "for i in range(1, 101):\n",
    "    sum += i\n",
    "print(sum)\n",
    "```\n",
    "\n"
   ]
  },
  {
   "cell_type": "markdown",
   "id": "d9ac046d",
   "metadata": {},
   "source": [
    "### Uppgift 4.\n",
    "Skriv en for-loop som räknar antalet bokstäver i en string som användaren får välja. Räkna sedan hur många svenska bokstäver som förekommer, dvs. \"å, ä, ö\".\n",
    "Du kommer behöva att kombinera loopen med en if-statement."
   ]
  },
  {
   "cell_type": "code",
   "execution_count": null,
   "id": "03026445",
   "metadata": {},
   "outputs": [],
   "source": [
    "user_string = input(\"Choose a string\")\n",
    "count = 0\n",
    "# Skriv kod här\n",
    "\n",
    "print(count)"
   ]
  },
  {
   "cell_type": "markdown",
   "id": "19632d8a",
   "metadata": {},
   "source": [
    "### Facit\n",
    "```python\n",
    "user_string = input(\"Choose a string\")\n",
    "count = 0\n",
    "for letter in user_string:\n",
    "    if letter in \"åäö\":\n",
    "    # Alternativt hade du kunnat skriva if letter == \"å\" or letter == \"ä\" or letter == \"ö\", men ovanstående är bättre.\n",
    "        count += 1\n",
    "print(count)\n",
    "```\n",
    "\n"
   ]
  },
  {
   "cell_type": "markdown",
   "id": "30292d3a",
   "metadata": {},
   "source": [
    "### Uppgift 5. (Loops med enumerate)\n",
    "\n",
    "Här är ett exempel på ett program som loopar över en lista och printar ut positionen för varje element.\n",
    "\n",
    "```python\n",
    "animals = [\"zebra\", \"hund\", \"katt\", \"häst\"]\n",
    "# Enumerate ger oss alltid elementet OCH indexet (positionen)\n",
    "for index, animal in enumerate(animals):\n",
    "   print(index)\n",
    "```\n",
    "1. Skriv ett program som använder en loop och enumerate() för att hitta positionen för ett visst element i en lista. Fråga användaren efter ett element, tex. \"a\" och printa sedan ut vilken position det är.\n",
    "2. Avbryt programmet loopen om den hittar elementet med hjälp av break-keywordet\n"
   ]
  },
  {
   "cell_type": "code",
   "execution_count": null,
   "id": "0e31354b",
   "metadata": {},
   "outputs": [],
   "source": [
    "# Skriv kod här"
   ]
  },
  {
   "cell_type": "markdown",
   "id": "8c5e9aff",
   "metadata": {},
   "source": [
    "### Facit\n",
    "\n",
    "Enumerate är värdefullt i de fallen där vi även vill använda positionen av elementet i efterhand. \n",
    "```python\n",
    "user_input = input(\"Find the positions of a value: \")\n",
    "animals = [\"zebra\", \"hund\", \"katt\", \"häst\"]\n",
    "for index, value in enumerate(my_list):\n",
    "    if value == user_input:\n",
    "        print(\"Elementet\", user_input, \"finns på index\", index)\n",
    "        break\n",
    "```\n",
    "\n"
   ]
  },
  {
   "cell_type": "markdown",
   "id": "94342031",
   "metadata": {},
   "source": [
    "### **Uppgift 6.**\n",
    "Vad är skillnaden mellan while och for? Varför skulle jag vilja använda en forloop när jag oftast kan göra samma sak med en whileloop?\n",
    "\n"
   ]
  },
  {
   "cell_type": "code",
   "execution_count": null,
   "id": "94342031",
   "metadata": {},
   "outputs": [],
   "source": []
  },
  {
   "cell_type": "markdown",
   "id": "b5f01ca8",
   "metadata": {},
   "source": [
    "### **Facit**\n",
    " for-loopen är det vi generellt kommer att föredra som pythonutvecklare, det är mer pythonic (koncist, läsbart, osv) och kan kombineras med exempelvis range(), enumerate() eller andra loopbara datastrukturer (som exempelvis list, string). \n",
    "\n",
    "While-loopen har dock ett fåtal use-cases, exempelvis när vi vill upprepa något oändligt, eller helt enkelt inte vet hur länge vi vill exekvera någon typ av funktionalitet (exempelvis att söka igenom ett filträd). Leker du runt lite med while-loopar kommer du sannolikt råka krascha din terminal/vscode om du orsakar en oändlig loop - det är en av riskerna! \n",
    "\n",
    "\n",
    "\n",
    "\n"
   ]
  },
  {
   "cell_type": "markdown",
   "id": "167397f7",
   "metadata": {},
   "source": [
    "### **Uppgift 7.**\n",
    "Ponera att du har en lista med 10000 string-elements i sig (tex. addresser). Du inser att det inte är nödvändigt att behålla addresser med ordet \"Katrineholm\" i sig och du bestämmer dig för att skriva denna kod:\n",
    "```python\n",
    "addresses = [\"Sultangatan 15, Katrineholm\", \"Hotellgatan 12, Stockholm\"]\n",
    "\n",
    "for index, address in enumerate(addresses):\n",
    "   if \"Katrineholm\" in address:\n",
    "       addresses.pop(index) # remove the item using its index\n",
    "\n",
    "```\n",
    "\n",
    "Funkar detta eller är det problematiskt?\n"
   ]
  },
  {
   "cell_type": "code",
   "execution_count": null,
   "id": "da4c6dd8",
   "metadata": {},
   "outputs": [],
   "source": [
    "# Svara / Skriv kod här"
   ]
  },
  {
   "cell_type": "markdown",
   "id": "aedaf3f5",
   "metadata": {},
   "source": [
    "### Facit"
   ]
  },
  {
   "cell_type": "markdown",
   "id": "9346bdde",
   "metadata": {},
   "source": [
    "\n",
    "Svar: Detta är FÖRBJUDET! Du ska ALDRIG ta bort eller lägga till data på datastukturer som du loopar över! Lösningen är att skapa en kopia av datan. Exempel:\n",
    "```python\n",
    "addresses = [\"Sultangatan 15, Katrineholm\", \"Hotellgatan 12, Stockholm\"]\n",
    "\n",
    "# Vi loopar över en kopia (slice) av listan. På så vis kan vi ändra listan samtidigt som vi itererar / loopar över den\n",
    "for index, address in enumerate(addresses[:]): \n",
    "   if \"Katrineholm\" in address:\n",
    "       addresses.remove(address) # remove the item using its index\n",
    "\n",
    "```"
   ]
  },
  {
   "cell_type": "markdown",
   "id": "5cfa11e4",
   "metadata": {},
   "source": [
    "## Listor\n",
    "\n"
   ]
  },
  {
   "cell_type": "markdown",
   "id": "469bc079",
   "metadata": {},
   "source": [
    "### **Uppgift 8.**\n",
    "1. Hur skapar du en lista?\n",
    "2. Varför behöver vi listor? \n",
    "3. Vad är ett index? Svara med kod och ord.\n",
    "4. Vad är ett element? Svara med kod och ord.\n",
    "5. Kan vi stoppa vilka typer som helst i en lista? Pröva!"
   ]
  },
  {
   "cell_type": "code",
   "execution_count": null,
   "id": "d10f4ee3",
   "metadata": {},
   "outputs": [],
   "source": [
    "# 3: Svara med kod här"
   ]
  },
  {
   "cell_type": "code",
   "execution_count": null,
   "id": "c8a73686",
   "metadata": {},
   "outputs": [],
   "source": [
    "# 4: Svara med kod här"
   ]
  },
  {
   "cell_type": "code",
   "execution_count": null,
   "id": "d1bc7ebd",
   "metadata": {},
   "outputs": [],
   "source": [
    "# 5: Svara med kod här"
   ]
  },
  {
   "cell_type": "markdown",
   "id": "60e91333",
   "metadata": {},
   "source": [
    "### Facit"
   ]
  },
  {
   "cell_type": "markdown",
   "id": "469bc079",
   "metadata": {},
   "source": [
    "1. Antingen genom att använda vanliga brackets [], eller genom list()-klassen. Mer om lister i en annan modul! Du kan skapa en tom lista eller en lista direkt med element i sig. tex:\n",
    "```python\n",
    "first_list = []\n",
    "second_list = list() # du behöver inte förstå detta än, var lugn!\n",
    "third_list = [\"test\", \"test2\"]\n",
    "```\n",
    "\n",
    "\n",
    "2. Att vilja gruppera data borde kännas logiskt om du begrundar tanken om vad alternativet är. Tänk om vi behövde skapa separata variabler för 10000 namn från ett register?  Det skulle aldrig gå! Många gånger vet vi inte i förväg vilken data vi ska behandla (exempelvis kanske vi laddar in datan från en fil eller internet), då behöver vi kunna stoppa in data någonstans utan att i förväg skapa en variabel för det.\n",
    "\n",
    "3. Index är ett annat ord för \"position\", dessa positioner representeras av heltal som alltid börjar från 0 och fortsätter uppåt. Det häftiga med python är att du kan accessa en lista med negativa index, vilket betyder att du börjar baklänges istället för framlänges. \n",
    "```python\n",
    "my_list = [1,2,3]\n",
    "first_element = my_list[0] # använder första indexet/positionen som börjar på 0, vilket ger oss tillgång till elementet på första indexet.\n",
    "```\n",
    "4. Det som listan innehåller är element, egentligen bara ett programmeringsord för \"sak\" eller engelskans \"item\". Bara en detalj, inte superviktigt! Utvecklare har konstiga ord för helt vanliga saker, det kan skapa en del förvirring. Men ibland så har vi specifika ord som syftar på specifika saker.\n",
    "5. Ja det kan vi! En lista kan innehålla vilka objekt som helst, samtidigt! Detta skiljer sig från många andra programmeringsspråk som använder \"arraylists\", vilket mer än ofta begränsar dig till endast en typ per lista.\n",
    "```python\n",
    "mixed_list = [\"this is a string\", 1, True, 2.0, []] # korrekt syntax i python\n",
    "```\n",
    "*Notera att vi kunde stoppa in en lista... I EN LISTA! Det är lagligt och det är MYCKET användbart.. mer om det vecka 2!*"
   ]
  },
  {
   "cell_type": "markdown",
   "id": "b518d499",
   "metadata": {},
   "source": [
    "### **Uppgift 9.**\n",
    "Du har listan \n",
    "```python\n",
    "numbers = [1,2,3,4,5]\n",
    "```\n",
    "\n",
    "1.  Hur printar du ut första elementet i listan? Svara med kod.\n",
    "\n",
    "2. Hur printar du ut sista elementet? Tips: Du kan använda len()-funktionen eller ett annat sätt som är mer typiskt för python. Svara med kod.\n",
    "\n",
    "3. Jag vill lägga till ett element på slutet av listan, hur gör jag? Svara med kod.\n",
    "\n",
    "4. Jag ångrar mig! Jag vill nu ta bort det sista elementet. Svara med kod.\n",
    "\n",
    "5. Ta bort elementet på index 2. Svara med kod\n",
    "\n",
    "Du nu istället  listan \n",
    "```python\n",
    "names = [\"tobias\",\"martin\",\"anna\",\"li\", \"martin\"]\n",
    "```\n",
    "6. Låtsas som att du inte har någon aning om vilka element som finns i listan, du vet alltså inte vilken plats (index) exempelvis namnet \"martin\" ligger på. Hur tar du bort \"martin\" från listan?\n",
    "\n",
    "Du nu istället  listan \n",
    "```python\n",
    "names = [\"tobias\",\"martin\",\"anna\",\"li\", \"martin\"]\n",
    "```\n",
    "Nu finns det 2 st martin. Funkar det att endast köra remove?\n",
    "\n",
    "Tips för att läsa mer om listor:\n",
    "\n",
    "- [https://docs.python.org/3/tutorial/datastructures.html](https://docs.python.org/3/tutorial/datastructures.html)\n",
    "- [https://www.w3schools.com/python/python_lists.asp](https://www.w3schools.com/python/python_lists.asp)\n",
    "\n",
    "\n",
    "\n"
   ]
  },
  {
   "cell_type": "markdown",
   "id": "b1ddc505",
   "metadata": {},
   "source": [
    "### **Facit**"
   ]
  },
  {
   "cell_type": "markdown",
   "id": "e03a404d",
   "metadata": {},
   "source": [
    "1. \n",
    "```python\n",
    "print(numbers[0])\n",
    "```\n",
    "2. \n",
    "```python\n",
    "print(numbers[-1]) # pythonic sätt att skriva det\n",
    "print(numbers[len(numbers)]) # vi tar fram längden av listan (vilket korresponderar mot sista indexet i listan) och använder det för att accessa sista elementet \n",
    "```\n",
    "3. \n",
    "```python\n",
    "numbers.append(6) # lägger till numret 6 genom listans inbyggda append-metod\n",
    "```\n",
    "4. \n",
    "```python\n",
    "numbers.pop() # tar bort sista elementet.\n",
    "```\n",
    "5. \n",
    "```python\n",
    "numbers.pop(2) # tar bort det tredje elementet\n",
    "```\n",
    " Listans pop-metod kan alltså användas på flera sätt. Om du inte ger den någon siffra som parameter (i ovanstående gav jag siffran 2), så tar den bort sista elementet. Men du kan också ge den ett index som parameter och den tas då bort. Så här funkar många metoder, det lär du dig genom att kolla pythons egna dokumentation för det mesta!\n",
    "\n",
    "6. \n",
    "\n",
    "```python\n",
    "names.remove(\"martin\")\n",
    "```\n",
    "Vi kan använda remove-metoden, den går igenom listan och försöker hitta värdet du angivet. Om det du angivit som parameter matchar så tas det elementet bort (men endast det **första** den hittar!)"
   ]
  },
  {
   "cell_type": "markdown",
   "id": "4a1019c8",
   "metadata": {},
   "source": [
    "### **Uppgift 10.**\n",
    "\n",
    "Ge ett exempel med helst kod och ord hur du kan använda break-keywordet och continue-keywordet inom loopar.\n",
    "\n"
   ]
  },
  {
   "cell_type": "code",
   "execution_count": null,
   "id": "4a1019c8",
   "metadata": {},
   "outputs": [],
   "source": []
  },
  {
   "cell_type": "markdown",
   "id": "e500c4a5",
   "metadata": {},
   "source": [
    "### **Facit**\n",
    " break kan användas då du i förväg vill avbryta din loop. I praktiken används det ofta för att söka igenom data (exempelvis att loopa över en lista med mycket komplexa datatyper, tex. en lista med listor med listor. OBS! Inte ett skämt!) - när man väl hittat objektet så behövs ett sätt att avbryta loopen (vi vill ju inte slösa tid eftersom vi nu hittat det vi söker efter!) och därmed används \"break\".\n",
    "\n",
    "```python\n",
    "#pseudokod\n",
    "lista_med_data = [...]\n",
    "for i in lista_med_data:\n",
    "   if i == \"det vi letar efter\":\n",
    "      # Gör någon handling med objektet\n",
    "      # om listan med data är mycket stor så är det bättre att #avbryta loopen, vi har ju hittat det vi letade efter!\n",
    "      break\n",
    "```\n",
    "\n",
    "2. Ge ett exempel med kod hur du kan använda continue inom loopar\n",
    "Tips: kika här: [https://www.tutorialspoint.com/python/python_loop_control.htm](https://www.tutorialspoint.com/python/python_loop_control.htm)\n",
    "\n"
   ]
  },
  {
   "cell_type": "markdown",
   "id": "0bdc63c1",
   "metadata": {},
   "source": [
    "\n",
    " **continue** används för att gå till nästa iteration av loopen. Det kan vara användbart om vi påbörjat en loop och märker att objektet vi har tillgång till i loopen inte bör behandlas av resterande delar i koden. \n",
    "```python\n",
    "#pseudokod, ni ska aldrig skriva kod på svenska ;-)\n",
    "lista_med_närvarande = [...]\n",
    "närvarande_studenter = []\n",
    "for namn in lista_med_närvarande:\n",
    "   if i == \"lärare\":\n",
    "      # Vi behöver inte lägga till närvaro för läraren\n",
    "      # gå vidare till nästa iteration\n",
    "      continue\n",
    "   # Alla studenters närvaro ska läggas till\n",
    "   närvarande_studenter.append(namn)\n",
    "```\n",
    "\n",
    "\n"
   ]
  },
  {
   "cell_type": "markdown",
   "id": "ed485e6e",
   "metadata": {},
   "source": [
    "### Uppgift 11.\n",
    "Du har en lista av listor med nummer. Din uppgift är att skriva en kod som går igenom varje tal i varje lista. Om talet är jämnt ska du lägga till det i en ny lista. Denna uppgift bygger på att du ska arbeta med \"nestade\" listor. Det är väldigt ofta vi kan behöva loopa igenom en datastruktur, sedan loopa igenom varje element (för elementen är också listor!)."
   ]
  },
  {
   "cell_type": "code",
   "execution_count": null,
   "id": "ed485e6e",
   "metadata": {},
   "outputs": [],
   "source": [
    "even_numbers = []\n",
    "num_lists = [[1, 2, 3], [4, 5, 6], [7, 8, 9], [10, 11, 12]]\n",
    "\n",
    "# Lägg till din kod här - \n"
   ]
  },
  {
   "cell_type": "markdown",
   "id": "5adde502",
   "metadata": {},
   "source": [
    "### **Facit**\n",
    "\n",
    "```python\n",
    "num_lists = [[1, 2, 3], [4, 5, 6], [7, 8, 9], [10, 11, 12]]\n",
    "even_numbers = []\n",
    "for sublist in num_lists:\n",
    "    for num in sublist:\n",
    "        if num % 2 == 0:\n",
    "            even_numbers.append(num)\n",
    "print(even_numbers)\n",
    "```"
   ]
  },
  {
   "cell_type": "markdown",
   "id": "b5f01ca8",
   "metadata": {},
   "source": [
    "### **Uppgift 12.**\n",
    "\n",
    "Nu ska du få öva på att jobba med slices. En slice är ett sätt att kopiera en lista där du kan specificera vilka element som ska inkluderas. Du vet att det är en slice så fort du upptäcker kolon i en lista, tex. [:], [0:5], [0:5:1] osv!\n",
    "\n",
    "1. Vad gör denna kod?\n",
    "```python\n",
    "data = [\"tobias\", \"marcus\", 1, 5.0]\n",
    "l = data[2:]\n",
    "```\n",
    "2. Vad gör denna kod?\n",
    "```python\n",
    "data = [\"tobias\", \"marcus\", 1, 5.0]\n",
    "l = data[:5]\n",
    "```\n",
    "3. Vad gör denna kod? Vad betyder minussiffran?\n",
    "```python\n",
    "data = [\"tobias\", \"marcus\", 1, 5.0]\n",
    "l = data[::-1]\n",
    "```\n",
    "Tips: [https://www.w3schools.com/python/ref_func_slice.asp](https://www.w3schools.com/python/ref_func_slice.asp)\n",
    "\n"
   ]
  },
  {
   "cell_type": "code",
   "execution_count": null,
   "id": "3fe23908",
   "metadata": {},
   "outputs": [],
   "source": [
    "# Skriv kod här / Svara"
   ]
  },
  {
   "cell_type": "markdown",
   "id": "f33056f2",
   "metadata": {},
   "source": [
    "### **Facit**"
   ]
  },
  {
   "cell_type": "markdown",
   "id": "393f170b",
   "metadata": {},
   "source": [
    "1. Skapar en ny lista l som innehåller element från listan data börjande från index 2 till slutet av listan. l kommer att vara [1, 5.0].\n",
    "\n",
    "2. Skapar en ny lista l som innehåller de första 5 elementen från listan data. Eftersom data bara har 4 element, kommer l att vara en kopia av data, dvs. [\"tobias\", \"marcus\", 1, 5.0].\n",
    "\n",
    "3. Skapar en ny lista l som innehåller alla element från listan data i omvänd ordning. Minussiffran i slice-notationen indikerar att vi går igenom listan bakifrån. l kommer att vara [5.0, 1, \"marcus\", \"tobias\"]."
   ]
  },
  {
   "cell_type": "markdown",
   "metadata": {},
   "source": [
    "### **Uppgift 13**\n",
    "\n",
    "1. Förklara vad \"in\" gör i denna kod gör. Keywordet används två gånger,vad är skillnaden på dessa två användningsområden?:\n",
    "```python\n",
    "names = [\"tobias\", \"andreas\", \"tove\"]\n",
    "new_names = []\n",
    "for name in names:\n",
    "   if \"to\" in name:\n",
    "      new_names.append(name)\n",
    "```\n",
    "2. Förklara vad \"in\" gör i denna kod gör:\n",
    "```python\n",
    "names = [\"doctor\", \"teacher\", \"programmer\"]\n",
    "exists = True\n",
    "if \"programmer\" not in names:\n",
    "   exists = False\n",
    "```\n",
    "Lästips: [https://www.w3schools.com/python/ref_keyword_in.asp](https://www.w3schools.com/python/ref_keyword_in.asp)\n",
    "Lästips 2: [https://www.askpython.com/python/examples/in-and-not-in-operators-in-python](https://www.askpython.com/python/examples/in-and-not-in-operators-in-python)"
   ]
  },
  {
   "cell_type": "markdown",
   "metadata": {},
   "source": [
    "### **Facit**\n",
    "1. I det första så används in tillsammans med en forloop för att iterera över något. I det andra så används \"in\" för at kolla om en substring existerar i en iterabel datastruktur (tex. i detta fall en lista).\n",
    "2. Vi använder not-operatorn tillsammans med in-keywordet för att kolla om \"programmer\" inte existerar i listan names. Det är enklast om man läser koden högt ut - \"om \"programmer\" inte finns i names\" skulle man kunna läsa det som"
   ]
  }
 ],
 "metadata": {
  "kernelspec": {
   "display_name": "venv",
   "language": "python",
   "name": "python3"
  },
  "language_info": {
   "name": "python",
   "version": "3.10.6"
  }
 },
 "nbformat": 4,
 "nbformat_minor": 5
}
